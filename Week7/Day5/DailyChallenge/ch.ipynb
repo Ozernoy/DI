{
 "cells": [
  {
   "cell_type": "code",
   "execution_count": 1,
   "metadata": {},
   "outputs": [
    {
     "name": "stdout",
     "output_type": "stream",
     "text": [
      "Excel file 'student_grades.xlsx' has been created successfully.\n"
     ]
    }
   ],
   "source": [
    "from openpyxl import Workbook\n",
    "from openpyxl.styles import Font, PatternFill\n",
    "\n",
    "# Step 1: Create an Excel workbook and worksheet\n",
    "workbook = Workbook()\n",
    "sheet = workbook.active\n",
    "sheet.title = \"Grades\"\n",
    "\n",
    "# Step 2: Data structure\n",
    "data = {\n",
    "    \"Joe\": {\"math\": 65, \"science\": 78, \"english\": 98, \"gym\": 89},\n",
    "    \"Bill\": {\"math\": 55, \"science\": 72, \"english\": 87, \"gym\": 95},\n",
    "    \"Tim\": {\"math\": 100, \"science\": 45, \"english\": 75, \"gym\": 92},\n",
    "    \"Sally\": {\"math\": 30, \"science\": 25, \"english\": 45, \"gym\": 100},\n",
    "    \"Jane\": {\"math\": 100, \"science\": 100, \"english\": 100, \"gym\": 60},\n",
    "}\n",
    "\n",
    "# Step 3: Populate the sheet with headers and student data\n",
    "# Header row\n",
    "headers = [\"Student\", \"Math\", \"Science\", \"English\", \"Gym\"]\n",
    "sheet.append(headers)\n",
    "\n",
    "# Apply bold and colored formatting to the header row\n",
    "header_font = Font(bold=True)\n",
    "header_fill = PatternFill(start_color=\"FFFF00\", end_color=\"FFFF00\", fill_type=\"solid\")\n",
    "\n",
    "for cell in sheet[1]:\n",
    "    cell.font = header_font\n",
    "    cell.fill = header_fill\n",
    "\n",
    "# Add student data\n",
    "for student, grades in data.items():\n",
    "    sheet.append([student, grades[\"math\"], grades[\"science\"], grades[\"english\"], grades[\"gym\"]])\n",
    "\n",
    "# Step 4: Add average calculations\n",
    "# Determine the last row and columns for formula\n",
    "last_row = sheet.max_row\n",
    "for col in range(2, 6):  # Columns B to E (grades columns)\n",
    "    col_letter = sheet.cell(row=1, column=col).column_letter\n",
    "    avg_formula = f\"=AVERAGE({col_letter}2:{col_letter}{last_row})\"\n",
    "    sheet.cell(row=last_row + 1, column=col).value = avg_formula\n",
    "\n",
    "# Add \"Average\" label in column A\n",
    "sheet.cell(row=last_row + 1, column=1).value = \"Average\"\n",
    "sheet.cell(row=last_row + 1, column=1).font = Font(bold=True)\n",
    "\n",
    "# Step 5: Save the workbook\n",
    "workbook.save(\"student_grades.xlsx\")\n",
    "workbook.close()\n",
    "\n",
    "print(\"Excel file 'student_grades.xlsx' has been created successfully.\")\n"
   ]
  }
 ],
 "metadata": {
  "kernelspec": {
   "display_name": "general",
   "language": "python",
   "name": "python3"
  },
  "language_info": {
   "codemirror_mode": {
    "name": "ipython",
    "version": 3
   },
   "file_extension": ".py",
   "mimetype": "text/x-python",
   "name": "python",
   "nbconvert_exporter": "python",
   "pygments_lexer": "ipython3",
   "version": "3.11.10"
  }
 },
 "nbformat": 4,
 "nbformat_minor": 2
}
