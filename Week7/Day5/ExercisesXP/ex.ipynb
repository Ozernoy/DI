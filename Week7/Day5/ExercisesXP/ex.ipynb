{
 "cells": [
  {
   "cell_type": "markdown",
   "metadata": {},
   "source": [
    "# Exercise 1 : Use the openpyxl module to create a new workbook and add values/formulae to it"
   ]
  },
  {
   "cell_type": "code",
   "execution_count": 1,
   "metadata": {},
   "outputs": [],
   "source": [
    "from openpyxl import Workbook\n",
    "\n",
    "# Create a new workbook\n",
    "workbook = Workbook()\n",
    "\n",
    "# Get the active worksheet\n",
    "worksheet = workbook.active\n",
    "\n",
    "# Add values to cells\n",
    "worksheet[\"A1\"] = \"First number ==>\"\n",
    "worksheet[\"B1\"] = 2\n",
    "worksheet[\"A2\"] = \"Second number ==>\"\n",
    "worksheet[\"B2\"] = 8\n",
    "\n",
    "# Add a formula to a cell\n",
    "worksheet[\"B3\"] = \"=B1*B2\"\n",
    "\n",
    "# Save the workbook\n",
    "workbook.save(\"example_workbook.xlsx\")\n",
    "\n",
    "# Close the workbook\n",
    "workbook.close()\n"
   ]
  },
  {
   "cell_type": "markdown",
   "metadata": {},
   "source": [
    "# Exercise 2 : Open an Excel workbook and read down a list of plants finding the ones not in stock"
   ]
  },
  {
   "cell_type": "markdown",
   "metadata": {},
   "source": [
    "The file is not accesible"
   ]
  },
  {
   "cell_type": "markdown",
   "metadata": {},
   "source": [
    "# Exercise 3 : Load Excel File and Write the Data"
   ]
  },
  {
   "cell_type": "markdown",
   "metadata": {},
   "source": [
    "From this file, do the following tasks :\n",
    "\n",
    "1. Load Excel File and give path to your file\n",
    "2. Perform data manipulation on the DataFrame by filtering the data where ‘Sales’ is greater than 1000.\n",
    "3. Use Openpyxl to write the filtered data back to the Excel file"
   ]
  },
  {
   "cell_type": "code",
   "execution_count": 5,
   "metadata": {},
   "outputs": [
    {
     "name": "stdout",
     "output_type": "stream",
     "text": [
      "Data successfully read from data.xlsx\n",
      "Filtered data contains 1221 rows.\n",
      "Filtered data has been saved successfully to output.xlsx\n"
     ]
    }
   ],
   "source": [
    "import pandas as pd\n",
    "\n",
    "# Step 1: Specify file paths\n",
    "input_file = \"data.xlsx\"  # Replace with the actual path to your source file\n",
    "output_file = \"output.xlsx\"  # Replace with the desired name/path for your output file\n",
    "\n",
    "# Step 2: Read data from the input Excel file\n",
    "try:\n",
    "    data = pd.read_excel(input_file)\n",
    "    print(f\"Data successfully read from {input_file}\")\n",
    "except FileNotFoundError:\n",
    "    print(f\"Error: The file {input_file} was not found. Please check the path.\")\n",
    "    exit()\n",
    "except Exception as e:\n",
    "    print(f\"An error occurred while reading the file: {e}\")\n",
    "    exit()\n",
    "\n",
    "# Step 3: Filter data where 'Sales' > 1000\n",
    "try:\n",
    "    filtered_data = data[data['Sales'] > 1000]  # Filtering condition\n",
    "    if filtered_data.empty:\n",
    "        print(\"No rows found where 'Sales' > 1000.\")\n",
    "    else:\n",
    "        print(f\"Filtered data contains {len(filtered_data)} rows.\")\n",
    "except KeyError:\n",
    "    print(\"Error: The 'Sales' column does not exist in the dataset.\")\n",
    "    exit()\n",
    "except Exception as e:\n",
    "    print(f\"An error occurred while filtering the data: {e}\")\n",
    "    exit()\n",
    "\n",
    "# Step 4: Save the filtered data to the output Excel file\n",
    "try:\n",
    "    filtered_data.to_excel(output_file, index=False)\n",
    "    print(f\"Filtered data has been saved successfully to {output_file}\")\n",
    "except Exception as e:\n",
    "    print(f\"An error occurred while saving the file: {e}\")\n"
   ]
  },
  {
   "cell_type": "markdown",
   "metadata": {},
   "source": [
    "# Exercise 4 : Load Excel File, plot charts and Manipulate Data\n",
    "1. import the necessary libraries pandas and matplotlib.pyplot, read data from an Excel file productSales.xlsx\n",
    "2. Manipulate the data by grouping it by ‘product’ and summing the sales for each product using pandas’ group by () and sum() functions\n",
    "3. Export it back into a new Excel file (‘sales_report.xlsx’) using pandas’ to_excel() function\n",
    "4. Save and close the file using the save() and close() methods of the ExcelWriter object."
   ]
  },
  {
   "cell_type": "code",
   "execution_count": 7,
   "metadata": {},
   "outputs": [
    {
     "name": "stdout",
     "output_type": "stream",
     "text": [
      "      product  sales\n",
      "0       Apple     84\n",
      "1      Banana    103\n",
      "2  Strawberry    115\n",
      "3  Watermelon     96\n"
     ]
    },
    {
     "data": {
      "image/png": "[encoded data removed]",
      "text/plain": [
       "<Figure size 1000x600 with 1 Axes>"
      ]
     },
     "metadata": {},
     "output_type": "display_data"
    },
    {
     "name": "stdout",
     "output_type": "stream",
     "text": [
      "Sales chart has been plotted and saved as 'sales_chart.png'.\n",
      "Sales report successfully saved to sales_report.xlsx\n"
     ]
    }
   ],
   "source": [
    "import pandas as pd\n",
    "import matplotlib.pyplot as plt\n",
    "\n",
    "# Step 1: Load data from the Excel file\n",
    "input_file = \"productSales.xlsx\"  # Replace with your actual file path\n",
    "output_file = \"sales_report.xlsx\"  # File where results will be saved\n",
    "\n",
    "data = pd.read_excel(input_file)\n",
    "\n",
    "\n",
    "sales_report = data.groupby('product', as_index=False)['sales'].sum()\n",
    "\n",
    "print(sales_report)\n",
    "\n",
    "\n",
    "# Step 3: Plot the sales data\n",
    "\n",
    "plt.figure(figsize=(10, 6))\n",
    "plt.bar(sales_report['product'], sales_report['sales'], color='skyblue')\n",
    "plt.xlabel('Product')\n",
    "plt.ylabel('Total Sales')\n",
    "plt.title('Total Sales by Product')\n",
    "plt.xticks(rotation=45)\n",
    "plt.tight_layout()\n",
    "plt.savefig(\"sales_chart.png\")  # Save the chart as a PNG file\n",
    "plt.show()\n",
    "print(\"Sales chart has been plotted and saved as 'sales_chart.png'.\")\n",
    "\n",
    "\n",
    "\n",
    "with pd.ExcelWriter(output_file) as writer:\n",
    "    sales_report.to_excel(writer, index=False, sheet_name=\"Sales Summary\")\n",
    "\n",
    "print(f\"Sales report successfully saved to {output_file}\")\n",
    "\n"
   ]
  }
 ],
 "metadata": {
  "kernelspec": {
   "display_name": "general",
   "language": "python",
   "name": "python3"
  },
  "language_info": {
   "codemirror_mode": {
    "name": "ipython",
    "version": 3
   },
   "file_extension": ".py",
   "mimetype": "text/x-python",
   "name": "python",
   "nbconvert_exporter": "python",
   "pygments_lexer": "ipython3",
   "version": "3.11.10"
  }
 },
 "nbformat": 4,
 "nbformat_minor": 2
}
