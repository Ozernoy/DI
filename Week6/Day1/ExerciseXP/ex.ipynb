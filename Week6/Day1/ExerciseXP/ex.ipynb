{
 "cells": [
  {
   "cell_type": "markdown",
   "metadata": {},
   "source": [
    "# 🌟 Exercise 1 : Array Creation and Manipulation\n",
    "Instructions\n",
    "Create a 1D NumPy array containing numbers from 0 to 9.\n",
    "\n",
    "Expected Output:\n",
    "\n",
    "\n",
    "\n",
    "```array([0, 1, 2, 3, 4, 5, 6, 7, 8, 9])```"
   ]
  },
  {
   "cell_type": "code",
   "execution_count": 2,
   "metadata": {},
   "outputs": [
    {
     "data": {
      "text/plain": [
       "array([0, 1, 2, 3, 4, 5, 6, 7, 8, 9])"
      ]
     },
     "execution_count": 2,
     "metadata": {},
     "output_type": "execute_result"
    }
   ],
   "source": [
    "import numpy as np\n",
    "\n",
    "array_1 = np.arange(10)\n",
    "array_1"
   ]
  },
  {
   "cell_type": "markdown",
   "metadata": {},
   "source": [
    "# 🌟 Exercise 2 : Type Conversion and Array Operations\n",
    "Instructions\n",
    "Convert a list ```[3.14, 2.17, 0, 1, 2]``` into a NumPy array and convert its data type to integer.\n",
    "\n",
    "Expected Output:\n",
    "\n",
    "\n",
    "\n",
    "``array([3, 2, 0, 1, 2])``"
   ]
  },
  {
   "cell_type": "code",
   "execution_count": 3,
   "metadata": {},
   "outputs": [
    {
     "data": {
      "text/plain": [
       "array([3, 2, 0, 1, 2])"
      ]
     },
     "execution_count": 3,
     "metadata": {},
     "output_type": "execute_result"
    }
   ],
   "source": [
    "list_2 = [3.14, 2.17, 0, 1, 2]\n",
    "array_2 = np.array(list_2, dtype=int)\n",
    "array_2"
   ]
  },
  {
   "cell_type": "markdown",
   "metadata": {},
   "source": [
    "# 🌟 Exercise 3 : Working with Multi-Dimensional Arrays\n",
    "Instructions\n",
    "Create a 3x3 NumPy array with values ranging from 1 to 9.\n",
    "\n",
    "Expected Output:\n",
    "\n",
    "\n",
    "\n",
    "``` \n",
    "array([[1, 2, 3],\n",
    "       [4, 5, 6],\n",
    "       [7, 8, 9]])\n",
    "```"
   ]
  },
  {
   "cell_type": "code",
   "execution_count": 4,
   "metadata": {},
   "outputs": [
    {
     "data": {
      "text/plain": [
       "array([[1, 2, 3],\n",
       "       [4, 5, 6],\n",
       "       [7, 8, 9]])"
      ]
     },
     "execution_count": 4,
     "metadata": {},
     "output_type": "execute_result"
    }
   ],
   "source": [
    "array_3 = np.arange(1, 10).reshape(3, 3)\n",
    "array_3"
   ]
  },
  {
   "cell_type": "markdown",
   "metadata": {},
   "source": [
    "# 🌟 Exercise 4 : Creating Multi-Dimensional Array with Random Numbers\n",
    "Instructions\n",
    "Create a 2D NumPy array of shape (4, 5) filled with random numbers.\n",
    "\n",
    "Expected Output:\n",
    "\n",
    "\n",
    "```\n",
    "array([[0.56, 0.85, 0.01, 0.42, 0.68],\n",
    "       [0.22, 0.37, 0.73, 0.93, 0.39],\n",
    "       [0.44, 0.03, 0.87, 0.02, 0.83],\n",
    "       [0.78, 0.87, 0.98, 0.80, 0.46]])\n",
    "```"
   ]
  },
  {
   "cell_type": "code",
   "execution_count": 6,
   "metadata": {},
   "outputs": [
    {
     "data": {
      "text/plain": [
       "array([[0.01990945, 0.88398703, 0.88168386, 0.1798295 , 0.79839624],\n",
       "       [0.42132272, 0.1340767 , 0.89262222, 0.81391834, 0.25397286],\n",
       "       [0.23141105, 0.41080269, 0.55299086, 0.49496376, 0.47780618],\n",
       "       [0.61495034, 0.67549841, 0.60735574, 0.30104703, 0.91294299]])"
      ]
     },
     "execution_count": 6,
     "metadata": {},
     "output_type": "execute_result"
    }
   ],
   "source": [
    "array_4 = np.random.rand(4, 5)\n",
    "array_4"
   ]
  },
  {
   "cell_type": "markdown",
   "metadata": {},
   "source": [
    "# 🌟 Exercise 5 : Indexing Arrays\n",
    "Instructions\n",
    "Select the second row from a given 2D NumPy array.\n",
    "\n",
    "Expected Output:\n",
    "\n",
    "\n",
    "```\n",
    "array([20, 21, 22, 23, 24])\n",
    "```"
   ]
  },
  {
   "cell_type": "code",
   "execution_count": 7,
   "metadata": {},
   "outputs": [
    {
     "data": {
      "text/plain": [
       "array([20, 21, 22, 23, 24])"
      ]
     },
     "execution_count": 7,
     "metadata": {},
     "output_type": "execute_result"
    }
   ],
   "source": [
    "array_5 = np.array([[10, 11, 12, 13, 14], \n",
    "                    [20, 21, 22, 23, 24], \n",
    "                    [30, 31, 32, 33, 34]])\n",
    "row_2 = array_5[1]\n",
    "row_2"
   ]
  },
  {
   "cell_type": "markdown",
   "metadata": {},
   "source": [
    "# 🌟 Exercise 6 : Reversing elements\n",
    "Instructions\n",
    "Reverse the order of elements in a given 1D NumPy array (first element becomes last).\n",
    "\n",
    "Expected Output:\n",
    "\n",
    "\n",
    "\n",
    "```array([9, 8, 7, 6, 5, 4, 3, 2, 1, 0])```"
   ]
  },
  {
   "cell_type": "code",
   "execution_count": 9,
   "metadata": {},
   "outputs": [
    {
     "data": {
      "text/plain": [
       "array([9, 8, 7, 6, 5, 4, 3, 2, 1, 0])"
      ]
     },
     "execution_count": 9,
     "metadata": {},
     "output_type": "execute_result"
    }
   ],
   "source": [
    "array_6 = np.arange(10)[::-1]\n",
    "array_6"
   ]
  },
  {
   "cell_type": "markdown",
   "metadata": {},
   "source": [
    "# 🌟 Exercise 7 : Identity Matrix\n",
    "Instructions\n",
    "Create a 4x4 identity matrix using NumPy.\n",
    "\n",
    "Expected Output:\n",
    "\n",
    "\n",
    "```\n",
    "array([[1., 0., 0., 0.],\n",
    "       [0., 1., 0., 0.],\n",
    "       [0., 0., 1., 0.],\n",
    "       [0., 0., 0., 1.]])\n",
    "       "
   ]
  },
  {
   "cell_type": "code",
   "execution_count": 11,
   "metadata": {},
   "outputs": [
    {
     "data": {
      "text/plain": [
       "array([[1., 0., 0., 0.],\n",
       "       [0., 1., 0., 0.],\n",
       "       [0., 0., 1., 0.],\n",
       "       [0., 0., 0., 1.]])"
      ]
     },
     "execution_count": 11,
     "metadata": {},
     "output_type": "execute_result"
    }
   ],
   "source": [
    "identity_matrix = np.eye(4)\n",
    "identity_matrix"
   ]
  },
  {
   "cell_type": "markdown",
   "metadata": {},
   "source": [
    "# 🌟 Exercise 8 : Simple Aggregate Funcs\n",
    "Instructions\n",
    "Find the sum and average of a given 1D array.\n",
    "\n",
    "Expected Output:\n",
    "\n",
    "\n",
    "\n",
    "```Sum: 45, Average: 4.5```"
   ]
  },
  {
   "cell_type": "code",
   "execution_count": 12,
   "metadata": {},
   "outputs": [
    {
     "name": "stdout",
     "output_type": "stream",
     "text": [
      "Sum: 45, Average: 4.5\n"
     ]
    }
   ],
   "source": [
    "array_8 = np.arange(10)\n",
    "sum_8 = np.sum(array_8)\n",
    "average_8 = np.mean(array_8)\n",
    "\n",
    "print(f'Sum: {sum_8}, Average: {average_8}')"
   ]
  },
  {
   "cell_type": "markdown",
   "metadata": {},
   "source": [
    "# 🌟 Exercise 9 : Create Array and Change its Structure\n",
    "Instructions\n",
    "Create a NumPy array with elements from 1 to 20; then reshape it into a 4x5 matrix.\n",
    "\n",
    "Expected Output:\n",
    "\n",
    "\n",
    "```\n",
    "array([[ 1,  2,  3,  4,  5],\n",
    "       [ 6,  7,  8,  9, 10],\n",
    "       [11, 12, 13, 14, 15],\n",
    "       [16, 17, 18, 19, 20]])"
   ]
  },
  {
   "cell_type": "code",
   "execution_count": 13,
   "metadata": {},
   "outputs": [
    {
     "data": {
      "text/plain": [
       "array([[ 1,  2,  3,  4,  5],\n",
       "       [ 6,  7,  8,  9, 10],\n",
       "       [11, 12, 13, 14, 15],\n",
       "       [16, 17, 18, 19, 20]])"
      ]
     },
     "execution_count": 13,
     "metadata": {},
     "output_type": "execute_result"
    }
   ],
   "source": [
    "array_9 = np.arange(1, 21).reshape(4, 5)\n",
    "array_9"
   ]
  },
  {
   "cell_type": "markdown",
   "metadata": {},
   "source": [
    "# 🌟 Exercise 10 : Conditional Selection of Values\n",
    "Instructions\n",
    "Extract all odd numbers from a given NumPy array.\n",
    "\n",
    "Expected Output:\n",
    "\n",
    "\n",
    "\n",
    "```array([1, 3, 5, 7, 9])```"
   ]
  },
  {
   "cell_type": "code",
   "execution_count": 14,
   "metadata": {},
   "outputs": [
    {
     "data": {
      "text/plain": [
       "array([1, 3, 5, 7, 9])"
      ]
     },
     "execution_count": 14,
     "metadata": {},
     "output_type": "execute_result"
    }
   ],
   "source": [
    "array_10 = np.arange(10)\n",
    "odd_numbers = array_10[array_10 % 2 == 1]\n",
    "odd_numbers"
   ]
  }
 ],
 "metadata": {
  "kernelspec": {
   "display_name": "JUPYTER_DEFAULT",
   "language": "python",
   "name": "python3"
  },
  "language_info": {
   "codemirror_mode": {
    "name": "ipython",
    "version": 3
   },
   "file_extension": ".py",
   "mimetype": "text/x-python",
   "name": "python",
   "nbconvert_exporter": "python",
   "pygments_lexer": "ipython3",
   "version": "3.12.3"
  }
 },
 "nbformat": 4,
 "nbformat_minor": 2
}
