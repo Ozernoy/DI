{
 "cells": [
  {
   "cell_type": "markdown",
   "metadata": {},
   "source": [
    "# Dataset Creation"
   ]
  },
  {
   "cell_type": "code",
   "execution_count": 1,
   "metadata": {},
   "outputs": [],
   "source": [
    "import numpy as np\n",
    "import pandas as pd\n",
    "\n",
    "# Seed for reproducibility\n",
    "np.random.seed(0)\n",
    "\n",
    "# Number of entries\n",
    "n_entries = 1000\n",
    "\n",
    "# Simulating dataset\n",
    "time = np.linspace(0, 100, n_entries)  # Time variable\n",
    "temperature = 20 + 5 * np.sin(np.pi * time / 50) + np.random.normal(0, 0.5, n_entries)  # Temperature (with some noise)\n",
    "pressure = 1013 + 20 * np.cos(np.pi * time / 25) + np.random.normal(0, 1, n_entries)  # Pressure (with some noise)\n",
    "chemical_concentration = 5 + 2 * np.sin(np.pi * time / 10) + np.random.normal(0, 0.2, n_entries)  # Chemical concentration\n",
    "\n",
    "# Creating DataFrame\n",
    "ninja_data = pd.DataFrame({\n",
    "    'Time': time,\n",
    "    'Temperature': temperature,\n",
    "    'Pressure': pressure,\n",
    "    'Chemical Concentration': chemical_concentration\n",
    "})"
   ]
  },
  {
   "cell_type": "code",
   "execution_count": 2,
   "metadata": {},
   "outputs": [
    {
     "data": {
      "text/html": [
       "<div>\n",
       "<style scoped>\n",
       "    .dataframe tbody tr th:only-of-type {\n",
       "        vertical-align: middle;\n",
       "    }\n",
       "\n",
       "    .dataframe tbody tr th {\n",
       "        vertical-align: top;\n",
       "    }\n",
       "\n",
       "    .dataframe thead th {\n",
       "        text-align: right;\n",
       "    }\n",
       "</style>\n",
       "<table border=\"1\" class=\"dataframe\">\n",
       "  <thead>\n",
       "    <tr style=\"text-align: right;\">\n",
       "      <th></th>\n",
       "      <th>Time</th>\n",
       "      <th>Temperature</th>\n",
       "      <th>Pressure</th>\n",
       "      <th>Chemical Concentration</th>\n",
       "    </tr>\n",
       "  </thead>\n",
       "  <tbody>\n",
       "    <tr>\n",
       "      <th>0</th>\n",
       "      <td>0.0000</td>\n",
       "      <td>20.882026</td>\n",
       "      <td>1033.555963</td>\n",
       "      <td>4.693416</td>\n",
       "    </tr>\n",
       "    <tr>\n",
       "      <th>1</th>\n",
       "      <td>0.1001</td>\n",
       "      <td>20.231526</td>\n",
       "      <td>1033.890892</td>\n",
       "      <td>4.720490</td>\n",
       "    </tr>\n",
       "    <tr>\n",
       "      <th>2</th>\n",
       "      <td>0.2002</td>\n",
       "      <td>20.552262</td>\n",
       "      <td>1032.571356</td>\n",
       "      <td>5.134934</td>\n",
       "    </tr>\n",
       "    <tr>\n",
       "      <th>3</th>\n",
       "      <td>0.3003</td>\n",
       "      <td>21.214783</td>\n",
       "      <td>1033.090475</td>\n",
       "      <td>4.996730</td>\n",
       "    </tr>\n",
       "    <tr>\n",
       "      <th>4</th>\n",
       "      <td>0.4004</td>\n",
       "      <td>21.059555</td>\n",
       "      <td>1033.202742</td>\n",
       "      <td>5.234754</td>\n",
       "    </tr>\n",
       "  </tbody>\n",
       "</table>\n",
       "</div>"
      ],
      "text/plain": [
       "     Time  Temperature     Pressure  Chemical Concentration\n",
       "0  0.0000    20.882026  1033.555963                4.693416\n",
       "1  0.1001    20.231526  1033.890892                4.720490\n",
       "2  0.2002    20.552262  1032.571356                5.134934\n",
       "3  0.3003    21.214783  1033.090475                4.996730\n",
       "4  0.4004    21.059555  1033.202742                5.234754"
      ]
     },
     "execution_count": 2,
     "metadata": {},
     "output_type": "execute_result"
    }
   ],
   "source": [
    "ninja_data.head()"
   ]
  },
  {
   "cell_type": "markdown",
   "metadata": {},
   "source": [
    "# Normalization"
   ]
  },
  {
   "cell_type": "code",
   "execution_count": 4,
   "metadata": {},
   "outputs": [
    {
     "data": {
      "text/html": [
       "<div>\n",
       "<style scoped>\n",
       "    .dataframe tbody tr th:only-of-type {\n",
       "        vertical-align: middle;\n",
       "    }\n",
       "\n",
       "    .dataframe tbody tr th {\n",
       "        vertical-align: top;\n",
       "    }\n",
       "\n",
       "    .dataframe thead th {\n",
       "        text-align: right;\n",
       "    }\n",
       "</style>\n",
       "<table border=\"1\" class=\"dataframe\">\n",
       "  <thead>\n",
       "    <tr style=\"text-align: right;\">\n",
       "      <th></th>\n",
       "      <th>Time</th>\n",
       "      <th>Temperature</th>\n",
       "      <th>Pressure</th>\n",
       "      <th>Chemical Concentration</th>\n",
       "    </tr>\n",
       "  </thead>\n",
       "  <tbody>\n",
       "    <tr>\n",
       "      <th>0</th>\n",
       "      <td>-1.729454</td>\n",
       "      <td>0.253054</td>\n",
       "      <td>1.444895</td>\n",
       "      <td>-0.206291</td>\n",
       "    </tr>\n",
       "    <tr>\n",
       "      <th>1</th>\n",
       "      <td>-1.725992</td>\n",
       "      <td>0.071093</td>\n",
       "      <td>1.468476</td>\n",
       "      <td>-0.187444</td>\n",
       "    </tr>\n",
       "    <tr>\n",
       "      <th>2</th>\n",
       "      <td>-1.722530</td>\n",
       "      <td>0.160811</td>\n",
       "      <td>1.375573</td>\n",
       "      <td>0.101064</td>\n",
       "    </tr>\n",
       "    <tr>\n",
       "      <th>3</th>\n",
       "      <td>-1.719067</td>\n",
       "      <td>0.346135</td>\n",
       "      <td>1.412122</td>\n",
       "      <td>0.004856</td>\n",
       "    </tr>\n",
       "    <tr>\n",
       "      <th>4</th>\n",
       "      <td>-1.715605</td>\n",
       "      <td>0.302714</td>\n",
       "      <td>1.420026</td>\n",
       "      <td>0.170552</td>\n",
       "    </tr>\n",
       "  </tbody>\n",
       "</table>\n",
       "</div>"
      ],
      "text/plain": [
       "       Time  Temperature  Pressure  Chemical Concentration\n",
       "0 -1.729454     0.253054  1.444895               -0.206291\n",
       "1 -1.725992     0.071093  1.468476               -0.187444\n",
       "2 -1.722530     0.160811  1.375573                0.101064\n",
       "3 -1.719067     0.346135  1.412122                0.004856\n",
       "4 -1.715605     0.302714  1.420026                0.170552"
      ]
     },
     "execution_count": 4,
     "metadata": {},
     "output_type": "execute_result"
    }
   ],
   "source": [
    "ninja_data_norm = (ninja_data - ninja_data.mean()) / ninja_data.std()\n",
    "ninja_data_norm.head()"
   ]
  },
  {
   "cell_type": "code",
   "execution_count": 11,
   "metadata": {},
   "outputs": [],
   "source": [
    "# Fourier Transformation on Temperature and Pressure\n",
    "temperature_fft = np.fft.fft(ninja_data['Temperature'])\n",
    "pressure_fft = np.fft.fft(ninja_data['Pressure'])\n",
    "\n",
    "# Frequency components\n",
    "frequency = np.fft.fftfreq(ninja_data.shape[0], d=(time[1] - time[0]))\n",
    "\n",
    "# Amplitude of the Fourier Transform\n",
    "temperature_amplitude = np.abs(temperature_fft)\n",
    "pressure_amplitude = np.abs(pressure_fft)"
   ]
  },
  {
   "cell_type": "code",
   "execution_count": 12,
   "metadata": {},
   "outputs": [
    {
     "data": {
      "image/png": "[encoded data removed]",
      "text/plain": [
       "<Figure size 1200x600 with 1 Axes>"
      ]
     },
     "metadata": {},
     "output_type": "display_data"
    }
   ],
   "source": [
    "import matplotlib.pyplot as plt\n",
    "\n",
    "plt.figure(figsize=(12, 6))\n",
    "plt.plot(frequency, temperature_amplitude, label='Temperature FFT')\n",
    "plt.plot(frequency, pressure_amplitude, label='Pressure FFT')\n",
    "plt.xlabel('Frequency')\n",
    "plt.ylabel('Amplitude')\n",
    "plt.title('Fourier Transform - Temperature & Pressure')\n",
    "plt.legend()\n",
    "plt.show()"
   ]
  },
  {
   "cell_type": "markdown",
   "metadata": {},
   "source": [
    "# Descriptive statistics"
   ]
  },
  {
   "cell_type": "code",
   "execution_count": 8,
   "metadata": {},
   "outputs": [
    {
     "data": {
      "text/html": [
       "<div>\n",
       "<style scoped>\n",
       "    .dataframe tbody tr th:only-of-type {\n",
       "        vertical-align: middle;\n",
       "    }\n",
       "\n",
       "    .dataframe tbody tr th {\n",
       "        vertical-align: top;\n",
       "    }\n",
       "\n",
       "    .dataframe thead th {\n",
       "        text-align: right;\n",
       "    }\n",
       "</style>\n",
       "<table border=\"1\" class=\"dataframe\">\n",
       "  <thead>\n",
       "    <tr style=\"text-align: right;\">\n",
       "      <th></th>\n",
       "      <th>Time</th>\n",
       "      <th>Temperature</th>\n",
       "      <th>Pressure</th>\n",
       "      <th>Chemical Concentration</th>\n",
       "    </tr>\n",
       "  </thead>\n",
       "  <tbody>\n",
       "    <tr>\n",
       "      <th>count</th>\n",
       "      <td>1000.000000</td>\n",
       "      <td>1000.000000</td>\n",
       "      <td>1000.000000</td>\n",
       "      <td>1000.000000</td>\n",
       "    </tr>\n",
       "    <tr>\n",
       "      <th>mean</th>\n",
       "      <td>50.000000</td>\n",
       "      <td>19.977372</td>\n",
       "      <td>1013.033617</td>\n",
       "      <td>4.989754</td>\n",
       "    </tr>\n",
       "    <tr>\n",
       "      <th>std</th>\n",
       "      <td>28.910854</td>\n",
       "      <td>3.574943</td>\n",
       "      <td>14.203350</td>\n",
       "      <td>1.436505</td>\n",
       "    </tr>\n",
       "    <tr>\n",
       "      <th>min</th>\n",
       "      <td>0.000000</td>\n",
       "      <td>13.897407</td>\n",
       "      <td>990.284418</td>\n",
       "      <td>2.559310</td>\n",
       "    </tr>\n",
       "    <tr>\n",
       "      <th>25%</th>\n",
       "      <td>25.000000</td>\n",
       "      <td>16.386984</td>\n",
       "      <td>998.852247</td>\n",
       "      <td>3.576024</td>\n",
       "    </tr>\n",
       "    <tr>\n",
       "      <th>50%</th>\n",
       "      <td>50.000000</td>\n",
       "      <td>20.008666</td>\n",
       "      <td>1012.950967</td>\n",
       "      <td>4.970976</td>\n",
       "    </tr>\n",
       "    <tr>\n",
       "      <th>75%</th>\n",
       "      <td>75.000000</td>\n",
       "      <td>23.570373</td>\n",
       "      <td>1027.062114</td>\n",
       "      <td>6.398067</td>\n",
       "    </tr>\n",
       "    <tr>\n",
       "      <th>max</th>\n",
       "      <td>100.000000</td>\n",
       "      <td>26.030294</td>\n",
       "      <td>1035.471676</td>\n",
       "      <td>7.486763</td>\n",
       "    </tr>\n",
       "  </tbody>\n",
       "</table>\n",
       "</div>"
      ],
      "text/plain": [
       "              Time  Temperature     Pressure  Chemical Concentration\n",
       "count  1000.000000  1000.000000  1000.000000             1000.000000\n",
       "mean     50.000000    19.977372  1013.033617                4.989754\n",
       "std      28.910854     3.574943    14.203350                1.436505\n",
       "min       0.000000    13.897407   990.284418                2.559310\n",
       "25%      25.000000    16.386984   998.852247                3.576024\n",
       "50%      50.000000    20.008666  1012.950967                4.970976\n",
       "75%      75.000000    23.570373  1027.062114                6.398067\n",
       "max     100.000000    26.030294  1035.471676                7.486763"
      ]
     },
     "execution_count": 8,
     "metadata": {},
     "output_type": "execute_result"
    }
   ],
   "source": [
    "# Descriptive statistics\n",
    "ninja_data.describe()"
   ]
  },
  {
   "cell_type": "markdown",
   "metadata": {},
   "source": [
    "# Correlation matrix"
   ]
  },
  {
   "cell_type": "code",
   "execution_count": 14,
   "metadata": {},
   "outputs": [
    {
     "data": {
      "text/html": [
       "<div>\n",
       "<style scoped>\n",
       "    .dataframe tbody tr th:only-of-type {\n",
       "        vertical-align: middle;\n",
       "    }\n",
       "\n",
       "    .dataframe tbody tr th {\n",
       "        vertical-align: top;\n",
       "    }\n",
       "\n",
       "    .dataframe thead th {\n",
       "        text-align: right;\n",
       "    }\n",
       "</style>\n",
       "<table border=\"1\" class=\"dataframe\">\n",
       "  <thead>\n",
       "    <tr style=\"text-align: right;\">\n",
       "      <th></th>\n",
       "      <th>Time</th>\n",
       "      <th>Temperature</th>\n",
       "      <th>Pressure</th>\n",
       "      <th>Chemical Concentration</th>\n",
       "    </tr>\n",
       "  </thead>\n",
       "  <tbody>\n",
       "    <tr>\n",
       "      <th>Time</th>\n",
       "      <td>1.000000</td>\n",
       "      <td>-0.770696</td>\n",
       "      <td>-0.001946</td>\n",
       "      <td>-0.156113</td>\n",
       "    </tr>\n",
       "    <tr>\n",
       "      <th>Temperature</th>\n",
       "      <td>-0.770696</td>\n",
       "      <td>1.000000</td>\n",
       "      <td>0.007112</td>\n",
       "      <td>-0.003277</td>\n",
       "    </tr>\n",
       "    <tr>\n",
       "      <th>Pressure</th>\n",
       "      <td>-0.001946</td>\n",
       "      <td>0.007112</td>\n",
       "      <td>1.000000</td>\n",
       "      <td>-0.000863</td>\n",
       "    </tr>\n",
       "    <tr>\n",
       "      <th>Chemical Concentration</th>\n",
       "      <td>-0.156113</td>\n",
       "      <td>-0.003277</td>\n",
       "      <td>-0.000863</td>\n",
       "      <td>1.000000</td>\n",
       "    </tr>\n",
       "  </tbody>\n",
       "</table>\n",
       "</div>"
      ],
      "text/plain": [
       "                            Time  Temperature  Pressure  \\\n",
       "Time                    1.000000    -0.770696 -0.001946   \n",
       "Temperature            -0.770696     1.000000  0.007112   \n",
       "Pressure               -0.001946     0.007112  1.000000   \n",
       "Chemical Concentration -0.156113    -0.003277 -0.000863   \n",
       "\n",
       "                        Chemical Concentration  \n",
       "Time                                 -0.156113  \n",
       "Temperature                          -0.003277  \n",
       "Pressure                             -0.000863  \n",
       "Chemical Concentration                1.000000  "
      ]
     },
     "execution_count": 14,
     "metadata": {},
     "output_type": "execute_result"
    }
   ],
   "source": [
    "correlation_matrix = ninja_data.corr()\n",
    "\n",
    "correlation_matrix"
   ]
  },
  {
   "cell_type": "code",
   "execution_count": 15,
   "metadata": {},
   "outputs": [
    {
     "data": {
      "image/png": "[encoded data removed]",
      "text/plain": [
       "<Figure size 800x600 with 2 Axes>"
      ]
     },
     "metadata": {},
     "output_type": "display_data"
    }
   ],
   "source": [
    "import seaborn as sns\n",
    "\n",
    "plt.figure(figsize=(8, 6))\n",
    "sns.heatmap(correlation_matrix, annot=True, cmap='coolwarm')\n",
    "plt.title('Correlation Heatmap')\n",
    "plt.show()"
   ]
  },
  {
   "cell_type": "markdown",
   "metadata": {},
   "source": [
    "# Pearson correlation between temperature and pressure"
   ]
  },
  {
   "cell_type": "code",
   "execution_count": 10,
   "metadata": {},
   "outputs": [
    {
     "data": {
      "text/plain": [
       "(0.0071122920672516896, 0.8222655963580467)"
      ]
     },
     "execution_count": 10,
     "metadata": {},
     "output_type": "execute_result"
    }
   ],
   "source": [
    "from scipy.stats import pearsonr\n",
    "\n",
    "corr_temp_press, p_value = pearsonr(ninja_data['Temperature'], ninja_data['Pressure'])\n",
    "\n",
    "corr_temp_press, p_value"
   ]
  }
 ],
 "metadata": {
  "kernelspec": {
   "display_name": "JUPYTER_DEFAULT",
   "language": "python",
   "name": "python3"
  },
  "language_info": {
   "codemirror_mode": {
    "name": "ipython",
    "version": 3
   },
   "file_extension": ".py",
   "mimetype": "text/x-python",
   "name": "python",
   "nbconvert_exporter": "python",
   "pygments_lexer": "ipython3",
   "version": "3.12.3"
  }
 },
 "nbformat": 4,
 "nbformat_minor": 2
}
