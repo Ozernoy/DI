{
 "cells": [
  {
   "cell_type": "markdown",
   "metadata": {},
   "source": [
    "# 🌟 Exercise 1 : Matrix Operations\n",
    "Instructions  \n",
    "In this exercise, you’ll work with a 3x3 matrix. Here’s a brief explanation of the concepts:  \n",
    "\n",
    "Determinant: The determinant is a value that can be computed from the elements of a square matrix. It provides important information about the matrix, such as whether it has an inverse, and is used in various areas like linear algebra and calculus. To understand more about it you can watch this video.  \n",
    "Inverse of a Matrix: The inverse of a matrix is a matrix that, when multiplied with the original matrix, results in an identity matrix. Not all matrices have inverses. The inverse is crucial in solving systems of linear equations.  \n",
    "Create a 3x3 matrix and perform the following operations:  \n",
    "\n",
    "Calculate the determinant.  \n",
    "Find the inverse of the matrix.  \n"
   ]
  },
  {
   "cell_type": "code",
   "execution_count": 1,
   "metadata": {},
   "outputs": [
    {
     "data": {
      "text/plain": [
       "(9.000000000000005,\n",
       " array([[-0.33333333, -2.11111111,  1.44444444],\n",
       "        [ 0.66666667,  1.22222222, -0.88888889],\n",
       "        [-0.33333333,  0.55555556, -0.22222222]]))"
      ]
     },
     "execution_count": 1,
     "metadata": {},
     "output_type": "execute_result"
    }
   ],
   "source": [
    "import numpy as np\n",
    "\n",
    "matrix = np.array([[2, 3, 1],\n",
    "                   [4, 5, 6],\n",
    "                   [7, 8, 9]])\n",
    "\n",
    "\n",
    "determinant = np.linalg.det(matrix)\n",
    "\n",
    "\n",
    "if determinant != 0:\n",
    "    inverse_matrix = np.linalg.inv(matrix)\n",
    "else:\n",
    "    inverse_matrix = \"Matrix is not invertible\"\n",
    "\n",
    "determinant, inverse_matrix\n"
   ]
  },
  {
   "cell_type": "markdown",
   "metadata": {},
   "source": [
    "# 🌟 Exercise 2 : Statistical Analysis\n",
    "Instructions  \n",
    "In this exercise, you’ll calculate statistical measures for a dataset:  \n",
    "\n",
    "Mean: The average value of a dataset.  \n",
    "Median: The middle value in a dataset when it is arranged in ascending or descending order.  \n",
    "Standard Deviation: A measure of the amount of variation or dispersion in a set of values.  \n",
    "Using NumPy, generate an array of 50 random numbers and compute:  \n",
    "\n",
    "The mean and median.  \n",
    "The standard deviation.  "
   ]
  },
  {
   "cell_type": "code",
   "execution_count": 2,
   "metadata": {},
   "outputs": [
    {
     "data": {
      "text/plain": [
       "(0.5521174094582001, 0.5827911112340032, 0.28849418792293896)"
      ]
     },
     "execution_count": 2,
     "metadata": {},
     "output_type": "execute_result"
    }
   ],
   "source": [
    "random_numbers = np.random.rand(50)\n",
    "\n",
    "mean_value = np.mean(random_numbers)\n",
    "median_value = np.median(random_numbers)\n",
    "std_dev = np.std(random_numbers)\n",
    "\n",
    "mean_value, median_value, std_dev\n"
   ]
  },
  {
   "cell_type": "markdown",
   "metadata": {},
   "source": [
    "# 🌟 Exercise 3 : Date Manipulation\n",
    "Instructions\n",
    "Create a NumPy array of dates for the month of January 2023. Convert these dates to another format (e.g., YYYY/MM/DD)."
   ]
  },
  {
   "cell_type": "code",
   "execution_count": 6,
   "metadata": {},
   "outputs": [
    {
     "data": {
      "text/plain": [
       "(array(['2023-01-01', '2023-01-02', '2023-01-03', '2023-01-04',\n",
       "        '2023-01-05', '2023-01-06', '2023-01-07', '2023-01-08',\n",
       "        '2023-01-09', '2023-01-10', '2023-01-11', '2023-01-12',\n",
       "        '2023-01-13', '2023-01-14', '2023-01-15', '2023-01-16',\n",
       "        '2023-01-17', '2023-01-18', '2023-01-19', '2023-01-20',\n",
       "        '2023-01-21', '2023-01-22', '2023-01-23', '2023-01-24',\n",
       "        '2023-01-25', '2023-01-26', '2023-01-27', '2023-01-28',\n",
       "        '2023-01-29', '2023-01-30', '2023-01-31'], dtype='datetime64[D]'),\n",
       " Index(['01/01/2023', '02/01/2023', '03/01/2023', '04/01/2023', '05/01/2023',\n",
       "        '06/01/2023', '07/01/2023', '08/01/2023', '09/01/2023', '10/01/2023',\n",
       "        '11/01/2023', '12/01/2023', '13/01/2023', '14/01/2023', '15/01/2023',\n",
       "        '16/01/2023', '17/01/2023', '18/01/2023', '19/01/2023', '20/01/2023',\n",
       "        '21/01/2023', '22/01/2023', '23/01/2023', '24/01/2023', '25/01/2023',\n",
       "        '26/01/2023', '27/01/2023', '28/01/2023', '29/01/2023', '30/01/2023',\n",
       "        '31/01/2023'],\n",
       "       dtype='object'))"
      ]
     },
     "execution_count": 6,
     "metadata": {},
     "output_type": "execute_result"
    }
   ],
   "source": [
    "import numpy as np\n",
    "import pandas as pd\n",
    "\n",
    "# Create a NumPy array of dates for January 2023\n",
    "january_dates = np.arange('2023-01-01', '2023-02-01', dtype='datetime64[D]')\n",
    "\n",
    "# Convert to pandas datetime format\n",
    "pandas_dates = pd.to_datetime(january_dates)\n",
    "\n",
    "# Convert dates to DD/MM/YYYY format using strftime\n",
    "formatted_dates = pandas_dates.strftime('%d/%m/%Y')\n",
    "\n",
    "january_dates, formatted_dates\n"
   ]
  },
  {
   "cell_type": "markdown",
   "metadata": {},
   "source": [
    "# 🌟 Exercise 4 : Data Manipulation with NumPy and Pandas\n",
    "Instructions  \n",
    "Create a DataFrame with random numbers and perform:  \n",
    "\n",
    "Conditional selection of data.  \n",
    "Aggregation functions like sum and average.  "
   ]
  },
  {
   "cell_type": "code",
   "execution_count": 7,
   "metadata": {},
   "outputs": [
    {
     "data": {
      "text/plain": [
       "(          A         B         C         D\n",
       " 1  0.546480  0.154635  0.391106  0.230806\n",
       " 2  0.935411  0.948143  0.637645  0.744561\n",
       " 4  0.976108  0.297755  0.925950  0.757367\n",
       " 5  0.983681  0.740801  0.866984  0.532927\n",
       " 7  0.784109  0.335973  0.477967  0.739067\n",
       " 8  0.535609  0.527188  0.466269  0.974008\n",
       " 9  0.626065  0.350838  0.625755  0.634855,\n",
       " A    6.027947\n",
       " B    5.076727\n",
       " C    6.188563\n",
       " D    5.714486\n",
       " dtype: float64,\n",
       " A    0.602795\n",
       " B    0.507673\n",
       " C    0.618856\n",
       " D    0.571449\n",
       " dtype: float64)"
      ]
     },
     "execution_count": 7,
     "metadata": {},
     "output_type": "execute_result"
    }
   ],
   "source": [
    "import pandas as pd\n",
    "\n",
    "# Create a DataFrame with random numbers\n",
    "df = pd.DataFrame(np.random.rand(10, 4), columns=list('ABCD'))\n",
    "\n",
    "# Conditional selection (Select rows where column A > 0.5)\n",
    "conditional_selection = df[df['A'] > 0.5]\n",
    "\n",
    "# Aggregation functions (sum and average)\n",
    "sum_values = df.sum()\n",
    "average_values = df.mean()\n",
    "\n",
    "conditional_selection, sum_values, average_values\n"
   ]
  },
  {
   "cell_type": "markdown",
   "metadata": {},
   "source": [
    "# 🌟 Exercise 5 : Image Representation\n",
    "Instructions\n",
    "Explain how images are represented in NumPy arrays and demonstrate with a simple example (e.g., creating a 5x5 grayscale image)."
   ]
  },
  {
   "cell_type": "markdown",
   "metadata": {},
   "source": [
    "Images are typically represented as multi-dimensional arrays. A grayscale image is a 2D array where each value represents a pixel's intensity. A color image is a 3D array where each pixel has three values (Red, Green, Blue)."
   ]
  },
  {
   "cell_type": "code",
   "execution_count": 2,
   "metadata": {},
   "outputs": [
    {
     "data": {
      "text/plain": [
       "array([[239, 184,  45, 208, 126],\n",
       "       [ 23, 128, 238, 197, 162],\n",
       "       [ 38,  79,  66,  28, 191],\n",
       "       [185, 122, 232, 132, 180],\n",
       "       [ 97, 197, 240,  99, 246]])"
      ]
     },
     "execution_count": 2,
     "metadata": {},
     "output_type": "execute_result"
    }
   ],
   "source": [
    "import numpy as np\n",
    "\n",
    "\n",
    "# Create a 5x5 grayscale image (values between 0 and 255)\n",
    "grayscale_image = np.random.randint(0, 256, size=(5, 5))\n",
    "\n",
    "grayscale_image\n"
   ]
  },
  {
   "cell_type": "code",
   "execution_count": 4,
   "metadata": {},
   "outputs": [
    {
     "data": {
      "image/png": "[encoded data removed]",
      "text/plain": [
       "<Figure size 640x480 with 2 Axes>"
      ]
     },
     "metadata": {},
     "output_type": "display_data"
    }
   ],
   "source": [
    "import matplotlib.pyplot as plt\n",
    "\n",
    "# Display the grayscale image\n",
    "plt.imshow(grayscale_image, cmap='gray', vmin=0, vmax=255)\n",
    "plt.colorbar()  # Adds a colorbar to show the scale of pixel intensity\n",
    "plt.title(\"5x5 Grayscale Image\")\n",
    "plt.show()"
   ]
  },
  {
   "cell_type": "code",
   "execution_count": 5,
   "metadata": {},
   "outputs": [
    {
     "data": {
      "image/png": "[encoded data removed]",
      "text/plain": [
       "<Figure size 640x480 with 1 Axes>"
      ]
     },
     "metadata": {},
     "output_type": "display_data"
    }
   ],
   "source": [
    "import numpy as np\n",
    "import matplotlib.pyplot as plt\n",
    "\n",
    "# Create a 5x5 colorful image (3 channels for RGB, values between 0 and 255)\n",
    "colorful_image = np.random.randint(0, 256, size=(5, 5, 3), dtype=np.uint8)\n",
    "\n",
    "# Display the colorful image\n",
    "plt.imshow(colorful_image)\n",
    "plt.title(\"5x5 Colorful Image\")\n",
    "plt.show()\n"
   ]
  },
  {
   "cell_type": "markdown",
   "metadata": {},
   "source": [
    "# 🌟 Exercise 6 : Basic Hypothesis Testing\n",
    "Instructions  \n",
    "Create a sample dataset to test the effectiveness of a new training program on employee productivity:  \n",
    "```python\n",
    "    import numpy as np\n",
    "\n",
    "    # Productivity scores of employees before the training program\n",
    "    productivity_before = np.random.normal(loc=50, scale=10, size=30)\n",
    "\n",
    "    # Productivity scores of the same employees after the training program\n",
    "    productivity_after = productivity_before + np.random.normal(loc=5, scale=3, size=30)\n",
    "\n",
    "    # Your task is to formulate a hypothesis regarding the training program's effectiveness \n",
    "    # and test it using basic statistical functions in NumPy.\n",
    "```\n",
    "\n",
    "Given a dataset, formulate a simple hypothesis and test it using basic statistical functions in NumPy."
   ]
  },
  {
   "cell_type": "code",
   "execution_count": 6,
   "metadata": {},
   "outputs": [
    {
     "data": {
      "text/plain": [
       "(4.730625051910255, 9.113868244613418, 5.186177512694396e-10)"
      ]
     },
     "execution_count": 6,
     "metadata": {},
     "output_type": "execute_result"
    }
   ],
   "source": [
    "# Hypothesis: The training program improves productivity.\n",
    "\n",
    "# Productivity scores of employees before and after the training\n",
    "productivity_before = np.random.normal(loc=50, scale=10, size=30)\n",
    "productivity_after = productivity_before + np.random.normal(loc=5, scale=3, size=30)\n",
    "\n",
    "# Calculate the mean difference in productivity\n",
    "mean_diff = np.mean(productivity_after - productivity_before)\n",
    "\n",
    "# Basic hypothesis testing using t-test\n",
    "from scipy import stats\n",
    "t_stat, p_value = stats.ttest_rel(productivity_after, productivity_before)\n",
    "\n",
    "mean_diff, t_stat, p_value\n"
   ]
  },
  {
   "cell_type": "markdown",
   "metadata": {},
   "source": [
    "**Interpretaion:**\n",
    "- A higher t_stat suggests a more significant difference between the two groups.\n",
    "- If the p-value is less than 0.05, you can conclude that the training program significantly improved productivity.\n",
    "- If the p-value is greater than 0.05, you can conclude that there is no strong evidence that the training program improved productivity.\n",
    "\n",
    "**In our case:**\n",
    "p_value is approximately 5*10^(-10) and we can conclude that the training program significantly improved productivity"
   ]
  },
  {
   "cell_type": "markdown",
   "metadata": {},
   "source": [
    "# 🌟 Exercise 7 : Complex Array Comparison\n",
    "Instructions  \n",
    "Create two arrays and perform element-wise comparison to find which elements are greater in the first array.\n",
    "\n",
    "The expected output is a boolean array showing which elements in the first array are greater than the corresponding elements in the second array."
   ]
  },
  {
   "cell_type": "code",
   "execution_count": 7,
   "metadata": {},
   "outputs": [
    {
     "data": {
      "text/plain": [
       "(array([2, 9, 9, 5, 7]),\n",
       " array([4, 1, 5, 5, 9]),\n",
       " array([False,  True,  True, False, False]))"
      ]
     },
     "execution_count": 7,
     "metadata": {},
     "output_type": "execute_result"
    }
   ],
   "source": [
    "array1 = np.random.randint(1, 10, 5)\n",
    "array2 = np.random.randint(1, 10, 5)\n",
    "\n",
    "comparison = array1 > array2\n",
    "\n",
    "array1, array2, comparison\n"
   ]
  },
  {
   "cell_type": "markdown",
   "metadata": {},
   "source": [
    "# 🌟 Exercise 8 : Time Series Data Manipulation\n",
    "Instructions  \n",
    "Generate time series data for the year 2023. Demonstrate slicing for the following intervals:  \n",
    "\n",
    "January to March  \n",
    "April to June  \n",
    "July to September  \n",
    "October to December  \n",
    "Generate a time series data for a specific period and demonstrate how to slice this data for different intervals.  "
   ]
  },
  {
   "cell_type": "code",
   "execution_count": 10,
   "metadata": {},
   "outputs": [
    {
     "data": {
      "text/html": [
       "<div>\n",
       "<style scoped>\n",
       "    .dataframe tbody tr th:only-of-type {\n",
       "        vertical-align: middle;\n",
       "    }\n",
       "\n",
       "    .dataframe tbody tr th {\n",
       "        vertical-align: top;\n",
       "    }\n",
       "\n",
       "    .dataframe thead th {\n",
       "        text-align: right;\n",
       "    }\n",
       "</style>\n",
       "<table border=\"1\" class=\"dataframe\">\n",
       "  <thead>\n",
       "    <tr style=\"text-align: right;\">\n",
       "      <th></th>\n",
       "      <th>Value</th>\n",
       "    </tr>\n",
       "  </thead>\n",
       "  <tbody>\n",
       "    <tr>\n",
       "      <th>2023-01-01</th>\n",
       "      <td>1.764052</td>\n",
       "    </tr>\n",
       "    <tr>\n",
       "      <th>2023-01-02</th>\n",
       "      <td>0.400157</td>\n",
       "    </tr>\n",
       "    <tr>\n",
       "      <th>2023-01-03</th>\n",
       "      <td>0.978738</td>\n",
       "    </tr>\n",
       "    <tr>\n",
       "      <th>2023-01-04</th>\n",
       "      <td>2.240893</td>\n",
       "    </tr>\n",
       "    <tr>\n",
       "      <th>2023-01-05</th>\n",
       "      <td>1.867558</td>\n",
       "    </tr>\n",
       "  </tbody>\n",
       "</table>\n",
       "</div>"
      ],
      "text/plain": [
       "               Value\n",
       "2023-01-01  1.764052\n",
       "2023-01-02  0.400157\n",
       "2023-01-03  0.978738\n",
       "2023-01-04  2.240893\n",
       "2023-01-05  1.867558"
      ]
     },
     "execution_count": 10,
     "metadata": {},
     "output_type": "execute_result"
    }
   ],
   "source": [
    "import pandas as pd\n",
    "import numpy as np\n",
    "\n",
    "# Generate date range for the entire year of 2023 with daily frequency\n",
    "date_range = pd.date_range(start='2023-01-01', end='2023-12-31', freq='D')\n",
    "\n",
    "# Generate random data for each day\n",
    "np.random.seed(0) \n",
    "data = np.random.randn(len(date_range))\n",
    "\n",
    "# Create a DataFrame with dates as the index and random values\n",
    "df = pd.DataFrame(data, index=date_range, columns=['Value'])\n",
    "\n",
    "df.head()\n"
   ]
  },
  {
   "cell_type": "code",
   "execution_count": 13,
   "metadata": {},
   "outputs": [
    {
     "data": {
      "text/plain": [
       "(               Value\n",
       " 2023-01-01  1.764052\n",
       " 2023-01-02  0.400157\n",
       " 2023-01-03  0.978738\n",
       " 2023-01-04  2.240893\n",
       " 2023-01-05  1.867558\n",
       " ...              ...\n",
       " 2023-03-27  1.895889\n",
       " 2023-03-28  1.178780\n",
       " 2023-03-29 -0.179925\n",
       " 2023-03-30 -1.070753\n",
       " 2023-03-31  1.054452\n",
       " \n",
       " [90 rows x 1 columns],\n",
       "                Value\n",
       " 2023-04-01 -0.403177\n",
       " 2023-04-02  1.222445\n",
       " 2023-04-03  0.208275\n",
       " 2023-04-04  0.976639\n",
       " 2023-04-05  0.356366\n",
       " ...              ...\n",
       " 2023-06-26 -0.803410\n",
       " 2023-06-27 -0.689550\n",
       " 2023-06-28 -0.455533\n",
       " 2023-06-29  0.017479\n",
       " 2023-06-30 -0.353994\n",
       " \n",
       " [91 rows x 1 columns],\n",
       "                Value\n",
       " 2023-07-01 -1.374951\n",
       " 2023-07-02 -0.643618\n",
       " 2023-07-03 -2.223403\n",
       " 2023-07-04  0.625231\n",
       " 2023-07-05 -1.602058\n",
       " ...              ...\n",
       " 2023-09-26 -0.310886\n",
       " 2023-09-27  0.097400\n",
       " 2023-09-28  0.399046\n",
       " 2023-09-29 -2.772593\n",
       " 2023-09-30  1.955912\n",
       " \n",
       " [92 rows x 1 columns],\n",
       "                Value\n",
       " 2023-10-01  0.390093\n",
       " 2023-10-02 -0.652409\n",
       " 2023-10-03 -0.390953\n",
       " 2023-10-04  0.493742\n",
       " 2023-10-05 -0.116104\n",
       " ...              ...\n",
       " 2023-12-27  0.698457\n",
       " 2023-12-28  0.003771\n",
       " 2023-12-29  0.931848\n",
       " 2023-12-30  0.339965\n",
       " 2023-12-31 -0.015682\n",
       " \n",
       " [92 rows x 1 columns])"
      ]
     },
     "execution_count": 13,
     "metadata": {},
     "output_type": "execute_result"
    }
   ],
   "source": [
    "jan_to_mar = df.loc['2023-01-01':'2023-03-31']\n",
    "apr_to_jun = df.loc['2023-04-01':'2023-06-30']\n",
    "jul_to_sep = df.loc['2023-07-01':'2023-09-30']\n",
    "oct_to_dec = df.loc['2023-10-01':'2023-12-31']\n",
    "\n",
    "jan_to_mar, apr_to_jun, jul_to_sep, oct_to_dec"
   ]
  },
  {
   "cell_type": "markdown",
   "metadata": {},
   "source": [
    "# 🌟 Exercise 9 : Data Conversion\n",
    "Instructions  \n",
    "Demonstrate how to convert a NumPy array to a Pandas DataFrame and vice versa."
   ]
  },
  {
   "cell_type": "code",
   "execution_count": 14,
   "metadata": {},
   "outputs": [
    {
     "data": {
      "text/plain": [
       "(          A         B         C\n",
       " 0  0.070870  0.292794  0.152355\n",
       " 1  0.417486  0.131289  0.604118\n",
       " 2  0.382808  0.895386  0.967795\n",
       " 3  0.546885  0.274824  0.592230\n",
       " 4  0.896761  0.406733  0.552078,\n",
       " array([[0.07086978, 0.29279403, 0.15235471],\n",
       "        [0.41748637, 0.13128933, 0.6041178 ],\n",
       "        [0.38280806, 0.89538588, 0.96779467],\n",
       "        [0.5468849 , 0.27482357, 0.59223042],\n",
       "        [0.89676116, 0.40673335, 0.55207828]]))"
      ]
     },
     "execution_count": 14,
     "metadata": {},
     "output_type": "execute_result"
    }
   ],
   "source": [
    "# Create a NumPy array\n",
    "np_array = np.random.rand(5, 3)\n",
    "\n",
    "# Convert to a Pandas DataFrame\n",
    "df_from_array = pd.DataFrame(np_array, columns=['A', 'B', 'C'])\n",
    "\n",
    "# Convert DataFrame back to NumPy array\n",
    "array_from_df = df_from_array.values\n",
    "\n",
    "df_from_array, array_from_df"
   ]
  },
  {
   "cell_type": "code",
   "execution_count": 15,
   "metadata": {},
   "outputs": [
    {
     "data": {
      "text/plain": [
       "numpy.ndarray"
      ]
     },
     "execution_count": 15,
     "metadata": {},
     "output_type": "execute_result"
    }
   ],
   "source": [
    "type(array_from_df)"
   ]
  },
  {
   "cell_type": "markdown",
   "metadata": {},
   "source": [
    "# 🌟 Exercise 10 : Basic Visualization\n",
    "Instructions\n",
    "Use Matplotlib to visualize a simple dataset created with NumPy (e.g., a line graph of random numbers)."
   ]
  },
  {
   "cell_type": "code",
   "execution_count": 16,
   "metadata": {},
   "outputs": [
    {
     "data": {
      "image/png": "[encoded data removed]",
      "text/plain": [
       "<Figure size 640x480 with 1 Axes>"
      ]
     },
     "metadata": {},
     "output_type": "display_data"
    }
   ],
   "source": [
    "import matplotlib.pyplot as plt\n",
    "\n",
    "# Create a dataset with NumPy\n",
    "x = np.linspace(0, 10, 100)\n",
    "y = np.sin(x)\n",
    "\n",
    "# Plot the data\n",
    "plt.plot(x, y)\n",
    "plt.title('Sine Wave')\n",
    "plt.xlabel('X')\n",
    "plt.ylabel('Sin(X)')\n",
    "plt.show()\n"
   ]
  },
  {
   "cell_type": "code",
   "execution_count": 17,
   "metadata": {},
   "outputs": [
    {
     "data": {
      "text/plain": [
       "array([ 0.        ,  0.1010101 ,  0.2020202 ,  0.3030303 ,  0.4040404 ,\n",
       "        0.50505051,  0.60606061,  0.70707071,  0.80808081,  0.90909091,\n",
       "        1.01010101,  1.11111111,  1.21212121,  1.31313131,  1.41414141,\n",
       "        1.51515152,  1.61616162,  1.71717172,  1.81818182,  1.91919192,\n",
       "        2.02020202,  2.12121212,  2.22222222,  2.32323232,  2.42424242,\n",
       "        2.52525253,  2.62626263,  2.72727273,  2.82828283,  2.92929293,\n",
       "        3.03030303,  3.13131313,  3.23232323,  3.33333333,  3.43434343,\n",
       "        3.53535354,  3.63636364,  3.73737374,  3.83838384,  3.93939394,\n",
       "        4.04040404,  4.14141414,  4.24242424,  4.34343434,  4.44444444,\n",
       "        4.54545455,  4.64646465,  4.74747475,  4.84848485,  4.94949495,\n",
       "        5.05050505,  5.15151515,  5.25252525,  5.35353535,  5.45454545,\n",
       "        5.55555556,  5.65656566,  5.75757576,  5.85858586,  5.95959596,\n",
       "        6.06060606,  6.16161616,  6.26262626,  6.36363636,  6.46464646,\n",
       "        6.56565657,  6.66666667,  6.76767677,  6.86868687,  6.96969697,\n",
       "        7.07070707,  7.17171717,  7.27272727,  7.37373737,  7.47474747,\n",
       "        7.57575758,  7.67676768,  7.77777778,  7.87878788,  7.97979798,\n",
       "        8.08080808,  8.18181818,  8.28282828,  8.38383838,  8.48484848,\n",
       "        8.58585859,  8.68686869,  8.78787879,  8.88888889,  8.98989899,\n",
       "        9.09090909,  9.19191919,  9.29292929,  9.39393939,  9.49494949,\n",
       "        9.5959596 ,  9.6969697 ,  9.7979798 ,  9.8989899 , 10.        ])"
      ]
     },
     "execution_count": 17,
     "metadata": {},
     "output_type": "execute_result"
    }
   ],
   "source": [
    "x"
   ]
  }
 ],
 "metadata": {
  "kernelspec": {
   "display_name": "JUPYTER_DEFAULT",
   "language": "python",
   "name": "python3"
  },
  "language_info": {
   "codemirror_mode": {
    "name": "ipython",
    "version": 3
   },
   "file_extension": ".py",
   "mimetype": "text/x-python",
   "name": "python",
   "nbconvert_exporter": "python",
   "pygments_lexer": "ipython3",
   "version": "3.12.3"
  }
 },
 "nbformat": 4,
 "nbformat_minor": 2
}
