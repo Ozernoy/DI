{
  "cells": [
    {
      "cell_type": "markdown",
      "metadata": {
        "id": "DeHt0ZK0kkpI"
      },
      "source": [
        "The AB test is a randomized experiment that is used by most large companies to evaluate the launch of new functionality. Various difficulties may arise in the analysis and conduct of the experiment. Several typical problematic cases from real life are given in this dataset and analysis."
      ]
    },
    {
      "cell_type": "markdown",
      "metadata": {
        "id": "Zm0ogtm1kkpI"
      },
      "source": [
        "### Content\n",
        "1. [Loading and processing data](#Loading)\n",
        "2. [Statistical Analysis](#Statistical)\n",
        "3. [Conclusions](#Conclusions)"
      ]
    },
    {
      "cell_type": "markdown",
      "metadata": {
        "id": "bn40N7ilkkpJ"
      },
      "source": [
        "### Loading and processing data <a name=\"Loading\"/>"
      ]
    },
    {
      "cell_type": "markdown",
      "metadata": {
        "id": "fh03NWZxkkpJ"
      },
      "source": [
        "Let's import the necessary libraries and load the data"
      ]
    },
    {
      "cell_type": "code",
      "execution_count": 1,
      "metadata": {
        "execution": {
          "iopub.execute_input": "2022-09-16T18:23:22.571662Z",
          "iopub.status.busy": "2022-09-16T18:23:22.571234Z",
          "iopub.status.idle": "2022-09-16T18:23:22.579386Z",
          "shell.execute_reply": "2022-09-16T18:23:22.577863Z",
          "shell.execute_reply.started": "2022-09-16T18:23:22.571624Z"
        },
        "id": "jKi9SDP2kkpJ",
        "trusted": true
      },
      "outputs": [
        {
          "name": "stderr",
          "output_type": "stream",
          "text": [
            "c:\\Users\\d1411\\anaconda3\\envs\\JUPYTER_DEFAULT\\Lib\\site-packages\\tqdm\\auto.py:21: TqdmWarning: IProgress not found. Please update jupyter and ipywidgets. See https://ipywidgets.readthedocs.io/en/stable/user_install.html\n",
            "  from .autonotebook import tqdm as notebook_tqdm\n"
          ]
        }
      ],
      "source": [
        "import numpy as np\n",
        "import pandas as pd\n",
        "from scipy.stats import mannwhitneyu\n",
        "from scipy.stats import ttest_ind\n",
        "from scipy.stats import norm\n",
        "import matplotlib.pyplot as plt\n",
        "import seaborn as sns\n",
        "from tqdm.auto import tqdm\n",
        "import seaborn as sns\n",
        "from scipy.stats import pearsonr\n",
        "from scipy.stats import shapiro"
      ]
    },
    {
      "cell_type": "code",
      "execution_count": 8,
      "metadata": {
        "execution": {
          "iopub.execute_input": "2022-09-16T18:23:22.584216Z",
          "iopub.status.busy": "2022-09-16T18:23:22.582829Z",
          "iopub.status.idle": "2022-09-16T18:23:22.604701Z",
          "shell.execute_reply": "2022-09-16T18:23:22.603788Z",
          "shell.execute_reply.started": "2022-09-16T18:23:22.584166Z"
        },
        "id": "5CAgSuFlkkpJ",
        "trusted": true
      },
      "outputs": [
        {
          "name": "stdout",
          "output_type": "stream",
          "text": [
            "Dataset URL: https://www.kaggle.com/datasets/sergylog/ab-test-data\n",
            "License(s): Community Data License Agreement - Sharing - Version 1.0\n",
            "Downloading ab-test-data.zip to c:\\Users\\d1411\\Документы\\Python Projects\\DI\\Week8\\Exercises\n",
            "\n"
          ]
        },
        {
          "name": "stderr",
          "output_type": "stream",
          "text": [
            "\n",
            "  0%|          | 0.00/28.3k [00:00<?, ?B/s]\n",
            "100%|██████████| 28.3k/28.3k [00:00<00:00, 465kB/s]\n"
          ]
        }
      ],
      "source": [
        "# TODO : import the dataset\n",
        "!kaggle datasets download -d sergylog/ab-test-data --unzip"
      ]
    },
    {
      "cell_type": "code",
      "execution_count": 9,
      "metadata": {
        "execution": {
          "iopub.execute_input": "2022-09-16T18:23:22.607393Z",
          "iopub.status.busy": "2022-09-16T18:23:22.606556Z",
          "iopub.status.idle": "2022-09-16T18:23:22.621022Z",
          "shell.execute_reply": "2022-09-16T18:23:22.619749Z",
          "shell.execute_reply.started": "2022-09-16T18:23:22.607349Z"
        },
        "id": "1nvLy1dIkkpK",
        "trusted": true
      },
      "outputs": [
        {
          "data": {
            "text/html": [
              "<div>\n",
              "<style scoped>\n",
              "    .dataframe tbody tr th:only-of-type {\n",
              "        vertical-align: middle;\n",
              "    }\n",
              "\n",
              "    .dataframe tbody tr th {\n",
              "        vertical-align: top;\n",
              "    }\n",
              "\n",
              "    .dataframe thead th {\n",
              "        text-align: right;\n",
              "    }\n",
              "</style>\n",
              "<table border=\"1\" class=\"dataframe\">\n",
              "  <thead>\n",
              "    <tr style=\"text-align: right;\">\n",
              "      <th></th>\n",
              "      <th>USER_ID</th>\n",
              "      <th>VARIANT_NAME</th>\n",
              "      <th>REVENUE</th>\n",
              "    </tr>\n",
              "  </thead>\n",
              "  <tbody>\n",
              "    <tr>\n",
              "      <th>0</th>\n",
              "      <td>737</td>\n",
              "      <td>variant</td>\n",
              "      <td>0.0</td>\n",
              "    </tr>\n",
              "    <tr>\n",
              "      <th>1</th>\n",
              "      <td>2423</td>\n",
              "      <td>control</td>\n",
              "      <td>0.0</td>\n",
              "    </tr>\n",
              "    <tr>\n",
              "      <th>2</th>\n",
              "      <td>9411</td>\n",
              "      <td>control</td>\n",
              "      <td>0.0</td>\n",
              "    </tr>\n",
              "    <tr>\n",
              "      <th>3</th>\n",
              "      <td>7311</td>\n",
              "      <td>control</td>\n",
              "      <td>0.0</td>\n",
              "    </tr>\n",
              "    <tr>\n",
              "      <th>4</th>\n",
              "      <td>6174</td>\n",
              "      <td>variant</td>\n",
              "      <td>0.0</td>\n",
              "    </tr>\n",
              "  </tbody>\n",
              "</table>\n",
              "</div>"
            ],
            "text/plain": [
              "   USER_ID VARIANT_NAME  REVENUE\n",
              "0      737      variant      0.0\n",
              "1     2423      control      0.0\n",
              "2     9411      control      0.0\n",
              "3     7311      control      0.0\n",
              "4     6174      variant      0.0"
            ]
          },
          "execution_count": 9,
          "metadata": {},
          "output_type": "execute_result"
        }
      ],
      "source": [
        "# TODO : take a quick look at the data\n",
        "data = pd.read_csv('AB_Test_Results.csv')\n",
        "data.head()"
      ]
    },
    {
      "cell_type": "code",
      "execution_count": 14,
      "metadata": {},
      "outputs": [
        {
          "data": {
            "text/plain": [
              "count    10000.000000\n",
              "mean         0.099447\n",
              "std          2.318529\n",
              "min          0.000000\n",
              "25%          0.000000\n",
              "50%          0.000000\n",
              "75%          0.000000\n",
              "max        196.010000\n",
              "Name: REVENUE, dtype: float64"
            ]
          },
          "execution_count": 14,
          "metadata": {},
          "output_type": "execute_result"
        }
      ],
      "source": [
        "data['REVENUE'].describe()"
      ]
    },
    {
      "cell_type": "code",
      "execution_count": 12,
      "metadata": {},
      "outputs": [
        {
          "name": "stdout",
          "output_type": "stream",
          "text": [
            "<class 'pandas.core.frame.DataFrame'>\n",
            "RangeIndex: 10000 entries, 0 to 9999\n",
            "Data columns (total 3 columns):\n",
            " #   Column        Non-Null Count  Dtype  \n",
            "---  ------        --------------  -----  \n",
            " 0   USER_ID       10000 non-null  int64  \n",
            " 1   VARIANT_NAME  10000 non-null  object \n",
            " 2   REVENUE       10000 non-null  float64\n",
            "dtypes: float64(1), int64(1), object(1)\n",
            "memory usage: 234.5+ KB\n"
          ]
        }
      ],
      "source": [
        "data.info()"
      ]
    },
    {
      "cell_type": "code",
      "execution_count": 13,
      "metadata": {},
      "outputs": [
        {
          "data": {
            "text/plain": [
              "6324"
            ]
          },
          "execution_count": 13,
          "metadata": {},
          "output_type": "execute_result"
        }
      ],
      "source": [
        "data['USER_ID'].nunique()"
      ]
    },
    {
      "cell_type": "code",
      "execution_count": 15,
      "metadata": {},
      "outputs": [
        {
          "data": {
            "text/plain": [
              "VARIANT_NAME\n",
              "variant    5016\n",
              "control    4984\n",
              "Name: count, dtype: int64"
            ]
          },
          "execution_count": 15,
          "metadata": {},
          "output_type": "execute_result"
        }
      ],
      "source": [
        "data['VARIANT_NAME'].value_counts()"
      ]
    },
    {
      "cell_type": "markdown",
      "metadata": {
        "id": "gvcmP9L5kkpL"
      },
      "source": [
        "Let's see if there are users who have two A/B test groups"
      ]
    },
    {
      "cell_type": "code",
      "execution_count": 20,
      "metadata": {
        "execution": {
          "iopub.execute_input": "2022-09-16T18:23:22.660468Z",
          "iopub.status.busy": "2022-09-16T18:23:22.659897Z",
          "iopub.status.idle": "2022-09-16T18:23:22.673751Z",
          "shell.execute_reply": "2022-09-16T18:23:22.672845Z",
          "shell.execute_reply.started": "2022-09-16T18:23:22.660438Z"
        },
        "id": "sQfYwAcWkkpL",
        "trusted": true
      },
      "outputs": [
        {
          "data": {
            "text/plain": [
              "USER_ID\n",
              "4967    2\n",
              "4615    2\n",
              "4586    2\n",
              "4593    2\n",
              "4595    2\n",
              "       ..\n",
              "1278    1\n",
              "4678    1\n",
              "4677    1\n",
              "4670    1\n",
              "2       1\n",
              "Name: VARIANT_NAME, Length: 6324, dtype: int64"
            ]
          },
          "execution_count": 20,
          "metadata": {},
          "output_type": "execute_result"
        }
      ],
      "source": [
        "# TODO : Look at the distribution of the number of unique groups for each user\n",
        "df = data.groupby('USER_ID')['VARIANT_NAME'].nunique().sort_values(ascending=False)\n",
        "df\n"
      ]
    },
    {
      "cell_type": "code",
      "execution_count": 21,
      "metadata": {},
      "outputs": [
        {
          "data": {
            "text/plain": [
              "1541"
            ]
          },
          "execution_count": 21,
          "metadata": {},
          "output_type": "execute_result"
        }
      ],
      "source": [
        "# How many users have seen both variants?\n",
        "df[df == 2].shape[0]"
      ]
    },
    {
      "cell_type": "code",
      "execution_count": 25,
      "metadata": {
        "execution": {
          "iopub.execute_input": "2022-09-16T18:23:22.675698Z",
          "iopub.status.busy": "2022-09-16T18:23:22.675099Z",
          "iopub.status.idle": "2022-09-16T18:23:22.683077Z",
          "shell.execute_reply": "2022-09-16T18:23:22.682019Z",
          "shell.execute_reply.started": "2022-09-16T18:23:22.675666Z"
        },
        "id": "X7D5HpjdkkpM",
        "trusted": true
      },
      "outputs": [
        {
          "data": {
            "text/plain": [
              "VARIANT_NAME\n",
              "1    0.756325\n",
              "2    0.243675\n",
              "Name: proportion, dtype: float64"
            ]
          },
          "execution_count": 25,
          "metadata": {},
          "output_type": "execute_result"
        }
      ],
      "source": [
        "# TODO : Look at the distribution of the number of unique groups for each user in relative terms\n",
        "data.groupby('USER_ID')['VARIANT_NAME'].nunique().value_counts(normalize=True)"
      ]
    },
    {
      "cell_type": "markdown",
      "metadata": {
        "id": "gyhapbJkkkpM"
      },
      "source": [
        "What can you observe ? Should we exclude these users ? Why ?"
      ]
    },
    {
      "cell_type": "code",
      "execution_count": 26,
      "metadata": {
        "execution": {
          "iopub.execute_input": "2022-09-16T18:23:22.68523Z",
          "iopub.status.busy": "2022-09-16T18:23:22.684621Z",
          "iopub.status.idle": "2022-09-16T18:23:22.704635Z",
          "shell.execute_reply": "2022-09-16T18:23:22.70344Z",
          "shell.execute_reply.started": "2022-09-16T18:23:22.685198Z"
        },
        "id": "MNRylCuikkpM",
        "trusted": true
      },
      "outputs": [
        {
          "data": {
            "text/plain": [
              "0.7563251106894371"
            ]
          },
          "execution_count": 26,
          "metadata": {},
          "output_type": "execute_result"
        }
      ],
      "source": [
        "# TODO : users have 1 A/B test group ?\n",
        "\n",
        "\n",
        "# TODO : Take only these users\n"
      ]
    },
    {
      "cell_type": "code",
      "execution_count": null,
      "metadata": {
        "execution": {
          "iopub.execute_input": "2022-09-16T18:23:22.707214Z",
          "iopub.status.busy": "2022-09-16T18:23:22.706067Z",
          "iopub.status.idle": "2022-09-16T18:23:22.721546Z",
          "shell.execute_reply": "2022-09-16T18:23:22.720237Z",
          "shell.execute_reply.started": "2022-09-16T18:23:22.70718Z"
        },
        "id": "4XvAx6ZtkkpM",
        "trusted": true
      },
      "outputs": [],
      "source": [
        "# TODO : Leave only records with users with the 1st ab test group\n",
        "\n",
        "# TODO : Check that the number of users matches what it was before the exception\n"
      ]
    },
    {
      "cell_type": "markdown",
      "metadata": {
        "id": "Vpvcse3pkkpM"
      },
      "source": [
        "Let's see how the data is distributed"
      ]
    },
    {
      "cell_type": "code",
      "execution_count": 27,
      "metadata": {
        "execution": {
          "iopub.execute_input": "2022-09-16T18:23:22.723766Z",
          "iopub.status.busy": "2022-09-16T18:23:22.722862Z",
          "iopub.status.idle": "2022-09-16T18:23:22.98119Z",
          "shell.execute_reply": "2022-09-16T18:23:22.980008Z",
          "shell.execute_reply.started": "2022-09-16T18:23:22.723732Z"
        },
        "id": "EW1ZGmsukkpN",
        "trusted": true
      },
      "outputs": [
        {
          "data": {
            "text/plain": [
              "<Axes: xlabel='REVENUE'>"
            ]
          },
          "execution_count": 27,
          "metadata": {},
          "output_type": "execute_result"
        },
        {
          "data": {
            "image/png": "[encoded data removed]",
            "text/plain": [
              "<Figure size 640x480 with 1 Axes>"
            ]
          },
          "metadata": {},
          "output_type": "display_data"
        }
      ],
      "source": [
        "# TODO : Check how the data is distributed using a box plot\n",
        "import seaborn as sns\n",
        "import matplotlib.pyplot as plt\n",
        "\n",
        "sns.boxplot(data=data, x='REVENUE')"
      ]
    },
    {
      "cell_type": "markdown",
      "metadata": {
        "id": "Hlp3psWykkpN"
      },
      "source": [
        "It can be seen that there is a strong outlier in the data - we will find it by sorting these revenue values in descending order"
      ]
    },
    {
      "cell_type": "code",
      "execution_count": 31,
      "metadata": {
        "execution": {
          "iopub.execute_input": "2022-09-16T18:23:22.987116Z",
          "iopub.status.busy": "2022-09-16T18:23:22.986753Z",
          "iopub.status.idle": "2022-09-16T18:23:23.005356Z",
          "shell.execute_reply": "2022-09-16T18:23:23.004381Z",
          "shell.execute_reply.started": "2022-09-16T18:23:22.987087Z"
        },
        "id": "9O6xaJmOkkpN",
        "trusted": true
      },
      "outputs": [
        {
          "data": {
            "text/html": [
              "<div>\n",
              "<style scoped>\n",
              "    .dataframe tbody tr th:only-of-type {\n",
              "        vertical-align: middle;\n",
              "    }\n",
              "\n",
              "    .dataframe tbody tr th {\n",
              "        vertical-align: top;\n",
              "    }\n",
              "\n",
              "    .dataframe thead th {\n",
              "        text-align: right;\n",
              "    }\n",
              "</style>\n",
              "<table border=\"1\" class=\"dataframe\">\n",
              "  <thead>\n",
              "    <tr style=\"text-align: right;\">\n",
              "      <th></th>\n",
              "      <th>USER_ID</th>\n",
              "      <th>VARIANT_NAME</th>\n",
              "      <th>REVENUE</th>\n",
              "    </tr>\n",
              "  </thead>\n",
              "  <tbody>\n",
              "    <tr>\n",
              "      <th>1437</th>\n",
              "      <td>3342</td>\n",
              "      <td>control</td>\n",
              "      <td>196.01</td>\n",
              "    </tr>\n",
              "    <tr>\n",
              "      <th>6447</th>\n",
              "      <td>2881</td>\n",
              "      <td>variant</td>\n",
              "      <td>58.63</td>\n",
              "    </tr>\n",
              "    <tr>\n",
              "      <th>7642</th>\n",
              "      <td>7206</td>\n",
              "      <td>variant</td>\n",
              "      <td>57.46</td>\n",
              "    </tr>\n",
              "    <tr>\n",
              "      <th>9421</th>\n",
              "      <td>6792</td>\n",
              "      <td>control</td>\n",
              "      <td>41.53</td>\n",
              "    </tr>\n",
              "    <tr>\n",
              "      <th>8168</th>\n",
              "      <td>2166</td>\n",
              "      <td>control</td>\n",
              "      <td>29.32</td>\n",
              "    </tr>\n",
              "    <tr>\n",
              "      <th>9125</th>\n",
              "      <td>831</td>\n",
              "      <td>control</td>\n",
              "      <td>25.98</td>\n",
              "    </tr>\n",
              "    <tr>\n",
              "      <th>2482</th>\n",
              "      <td>7356</td>\n",
              "      <td>variant</td>\n",
              "      <td>23.04</td>\n",
              "    </tr>\n",
              "    <tr>\n",
              "      <th>6412</th>\n",
              "      <td>1053</td>\n",
              "      <td>control</td>\n",
              "      <td>20.07</td>\n",
              "    </tr>\n",
              "    <tr>\n",
              "      <th>5217</th>\n",
              "      <td>3684</td>\n",
              "      <td>variant</td>\n",
              "      <td>19.47</td>\n",
              "    </tr>\n",
              "    <tr>\n",
              "      <th>5530</th>\n",
              "      <td>282</td>\n",
              "      <td>control</td>\n",
              "      <td>18.56</td>\n",
              "    </tr>\n",
              "  </tbody>\n",
              "</table>\n",
              "</div>"
            ],
            "text/plain": [
              "      USER_ID VARIANT_NAME  REVENUE\n",
              "1437     3342      control   196.01\n",
              "6447     2881      variant    58.63\n",
              "7642     7206      variant    57.46\n",
              "9421     6792      control    41.53\n",
              "8168     2166      control    29.32\n",
              "9125      831      control    25.98\n",
              "2482     7356      variant    23.04\n",
              "6412     1053      control    20.07\n",
              "5217     3684      variant    19.47\n",
              "5530      282      control    18.56"
            ]
          },
          "execution_count": 31,
          "metadata": {},
          "output_type": "execute_result"
        }
      ],
      "source": [
        "# TODO : Sort these revenue values in descending order\n",
        "data.sort_values(ascending=False, by='REVENUE').head(10)"
      ]
    },
    {
      "cell_type": "code",
      "execution_count": 30,
      "metadata": {
        "execution": {
          "iopub.execute_input": "2022-09-16T18:23:23.009563Z",
          "iopub.status.busy": "2022-09-16T18:23:23.009204Z",
          "iopub.status.idle": "2022-09-16T18:23:23.022364Z",
          "shell.execute_reply": "2022-09-16T18:23:23.020814Z",
          "shell.execute_reply.started": "2022-09-16T18:23:23.009514Z"
        },
        "id": "zzX8JJiIkkpN",
        "trusted": true
      },
      "outputs": [
        {
          "data": {
            "text/html": [
              "<div>\n",
              "<style scoped>\n",
              "    .dataframe tbody tr th:only-of-type {\n",
              "        vertical-align: middle;\n",
              "    }\n",
              "\n",
              "    .dataframe tbody tr th {\n",
              "        vertical-align: top;\n",
              "    }\n",
              "\n",
              "    .dataframe thead th {\n",
              "        text-align: right;\n",
              "    }\n",
              "</style>\n",
              "<table border=\"1\" class=\"dataframe\">\n",
              "  <thead>\n",
              "    <tr style=\"text-align: right;\">\n",
              "      <th></th>\n",
              "      <th>USER_ID</th>\n",
              "      <th>VARIANT_NAME</th>\n",
              "      <th>REVENUE</th>\n",
              "    </tr>\n",
              "  </thead>\n",
              "  <tbody>\n",
              "    <tr>\n",
              "      <th>1437</th>\n",
              "      <td>3342</td>\n",
              "      <td>control</td>\n",
              "      <td>196.01</td>\n",
              "    </tr>\n",
              "  </tbody>\n",
              "</table>\n",
              "</div>"
            ],
            "text/plain": [
              "      USER_ID VARIANT_NAME  REVENUE\n",
              "1437     3342      control   196.01"
            ]
          },
          "execution_count": 30,
          "metadata": {},
          "output_type": "execute_result"
        }
      ],
      "source": [
        "# TODO : See if user 3342 had other events with a strong outlier\n",
        "data[data['USER_ID'] == 3342]"
      ]
    },
    {
      "cell_type": "markdown",
      "metadata": {
        "id": "rvfqeZW6kkpN"
      },
      "source": [
        "We see that there is only one outlier - in conditions of limited information, we will remove this entry and look at the distribution of data again"
      ]
    },
    {
      "cell_type": "code",
      "execution_count": 32,
      "metadata": {
        "execution": {
          "iopub.execute_input": "2022-09-16T18:23:23.024763Z",
          "iopub.status.busy": "2022-09-16T18:23:23.024282Z",
          "iopub.status.idle": "2022-09-16T18:23:23.031917Z",
          "shell.execute_reply": "2022-09-16T18:23:23.030566Z",
          "shell.execute_reply.started": "2022-09-16T18:23:23.024711Z"
        },
        "id": "9VHXOhaVkkpO",
        "trusted": true
      },
      "outputs": [
        {
          "data": {
            "text/plain": [
              "<Axes: xlabel='REVENUE'>"
            ]
          },
          "execution_count": 32,
          "metadata": {},
          "output_type": "execute_result"
        },
        {
          "data": {
            "image/png": "[encoded data removed]",
            "text/plain": [
              "<Figure size 640x480 with 1 Axes>"
            ]
          },
          "metadata": {},
          "output_type": "display_data"
        }
      ],
      "source": [
        "# TODO : We see that there is only one outlier - in conditions of limited information, remove this entry and visualize the distribution of data again.\n",
        "\n",
        "data_cleared = data.drop(index=1437)\n",
        "\n",
        "sns.boxplot(data=data_cleared, x='REVENUE')"
      ]
    },
    {
      "cell_type": "markdown",
      "metadata": {
        "id": "r8pN_6oekkpO"
      },
      "source": [
        "\n",
        "What can you say about the users and their purchases ?"
      ]
    },
    {
      "cell_type": "code",
      "execution_count": 38,
      "metadata": {
        "execution": {
          "iopub.execute_input": "2022-09-16T18:23:23.397266Z",
          "iopub.status.busy": "2022-09-16T18:23:23.396475Z",
          "iopub.status.idle": "2022-09-16T18:23:23.4091Z",
          "shell.execute_reply": "2022-09-16T18:23:23.407843Z",
          "shell.execute_reply.started": "2022-09-16T18:23:23.397231Z"
        },
        "id": "VZ3v8TeekkpO",
        "trusted": true
      },
      "outputs": [
        {
          "data": {
            "text/html": [
              "<div>\n",
              "<style scoped>\n",
              "    .dataframe tbody tr th:only-of-type {\n",
              "        vertical-align: middle;\n",
              "    }\n",
              "\n",
              "    .dataframe tbody tr th {\n",
              "        vertical-align: top;\n",
              "    }\n",
              "\n",
              "    .dataframe thead th {\n",
              "        text-align: right;\n",
              "    }\n",
              "</style>\n",
              "<table border=\"1\" class=\"dataframe\">\n",
              "  <thead>\n",
              "    <tr style=\"text-align: right;\">\n",
              "      <th></th>\n",
              "      <th>min</th>\n",
              "      <th>max</th>\n",
              "    </tr>\n",
              "    <tr>\n",
              "      <th>USER_ID</th>\n",
              "      <th></th>\n",
              "      <th></th>\n",
              "    </tr>\n",
              "  </thead>\n",
              "  <tbody>\n",
              "    <tr>\n",
              "      <th>2</th>\n",
              "      <td>0.0</td>\n",
              "      <td>0.00</td>\n",
              "    </tr>\n",
              "    <tr>\n",
              "      <th>3</th>\n",
              "      <td>0.0</td>\n",
              "      <td>0.00</td>\n",
              "    </tr>\n",
              "    <tr>\n",
              "      <th>4</th>\n",
              "      <td>0.0</td>\n",
              "      <td>0.00</td>\n",
              "    </tr>\n",
              "    <tr>\n",
              "      <th>5</th>\n",
              "      <td>0.0</td>\n",
              "      <td>0.00</td>\n",
              "    </tr>\n",
              "    <tr>\n",
              "      <th>6</th>\n",
              "      <td>0.0</td>\n",
              "      <td>0.00</td>\n",
              "    </tr>\n",
              "    <tr>\n",
              "      <th>...</th>\n",
              "      <td>...</td>\n",
              "      <td>...</td>\n",
              "    </tr>\n",
              "    <tr>\n",
              "      <th>9993</th>\n",
              "      <td>0.0</td>\n",
              "      <td>0.00</td>\n",
              "    </tr>\n",
              "    <tr>\n",
              "      <th>9995</th>\n",
              "      <td>0.0</td>\n",
              "      <td>0.00</td>\n",
              "    </tr>\n",
              "    <tr>\n",
              "      <th>9996</th>\n",
              "      <td>0.0</td>\n",
              "      <td>6.46</td>\n",
              "    </tr>\n",
              "    <tr>\n",
              "      <th>9998</th>\n",
              "      <td>0.0</td>\n",
              "      <td>0.00</td>\n",
              "    </tr>\n",
              "    <tr>\n",
              "      <th>10000</th>\n",
              "      <td>0.0</td>\n",
              "      <td>0.00</td>\n",
              "    </tr>\n",
              "  </tbody>\n",
              "</table>\n",
              "<p>6323 rows × 2 columns</p>\n",
              "</div>"
            ],
            "text/plain": [
              "         min   max\n",
              "USER_ID           \n",
              "2        0.0  0.00\n",
              "3        0.0  0.00\n",
              "4        0.0  0.00\n",
              "5        0.0  0.00\n",
              "6        0.0  0.00\n",
              "...      ...   ...\n",
              "9993     0.0  0.00\n",
              "9995     0.0  0.00\n",
              "9996     0.0  6.46\n",
              "9998     0.0  0.00\n",
              "10000    0.0  0.00\n",
              "\n",
              "[6323 rows x 2 columns]"
            ]
          },
          "execution_count": 38,
          "metadata": {},
          "output_type": "execute_result"
        }
      ],
      "source": [
        "# TODO : Check if there are users who have records with zero and positive revenue\n",
        "revenues = data_cleared.groupby('USER_ID')['REVENUE'].agg(['min', 'max'])\n",
        "revenues"
      ]
    },
    {
      "cell_type": "code",
      "execution_count": 40,
      "metadata": {},
      "outputs": [
        {
          "data": {
            "text/html": [
              "<div>\n",
              "<style scoped>\n",
              "    .dataframe tbody tr th:only-of-type {\n",
              "        vertical-align: middle;\n",
              "    }\n",
              "\n",
              "    .dataframe tbody tr th {\n",
              "        vertical-align: top;\n",
              "    }\n",
              "\n",
              "    .dataframe thead th {\n",
              "        text-align: right;\n",
              "    }\n",
              "</style>\n",
              "<table border=\"1\" class=\"dataframe\">\n",
              "  <thead>\n",
              "    <tr style=\"text-align: right;\">\n",
              "      <th></th>\n",
              "      <th>min</th>\n",
              "      <th>max</th>\n",
              "      <th>dif</th>\n",
              "    </tr>\n",
              "    <tr>\n",
              "      <th>USER_ID</th>\n",
              "      <th></th>\n",
              "      <th></th>\n",
              "      <th></th>\n",
              "    </tr>\n",
              "  </thead>\n",
              "  <tbody>\n",
              "    <tr>\n",
              "      <th>2881</th>\n",
              "      <td>0.0</td>\n",
              "      <td>58.63</td>\n",
              "      <td>58.63</td>\n",
              "    </tr>\n",
              "    <tr>\n",
              "      <th>7206</th>\n",
              "      <td>0.0</td>\n",
              "      <td>57.46</td>\n",
              "      <td>57.46</td>\n",
              "    </tr>\n",
              "    <tr>\n",
              "      <th>6792</th>\n",
              "      <td>0.0</td>\n",
              "      <td>41.53</td>\n",
              "      <td>41.53</td>\n",
              "    </tr>\n",
              "    <tr>\n",
              "      <th>2166</th>\n",
              "      <td>0.0</td>\n",
              "      <td>29.32</td>\n",
              "      <td>29.32</td>\n",
              "    </tr>\n",
              "    <tr>\n",
              "      <th>831</th>\n",
              "      <td>0.0</td>\n",
              "      <td>25.98</td>\n",
              "      <td>25.98</td>\n",
              "    </tr>\n",
              "    <tr>\n",
              "      <th>...</th>\n",
              "      <td>...</td>\n",
              "      <td>...</td>\n",
              "      <td>...</td>\n",
              "    </tr>\n",
              "    <tr>\n",
              "      <th>8927</th>\n",
              "      <td>0.0</td>\n",
              "      <td>0.06</td>\n",
              "      <td>0.06</td>\n",
              "    </tr>\n",
              "    <tr>\n",
              "      <th>6207</th>\n",
              "      <td>0.0</td>\n",
              "      <td>0.04</td>\n",
              "      <td>0.04</td>\n",
              "    </tr>\n",
              "    <tr>\n",
              "      <th>2182</th>\n",
              "      <td>0.0</td>\n",
              "      <td>0.04</td>\n",
              "      <td>0.04</td>\n",
              "    </tr>\n",
              "    <tr>\n",
              "      <th>8479</th>\n",
              "      <td>0.0</td>\n",
              "      <td>0.04</td>\n",
              "      <td>0.04</td>\n",
              "    </tr>\n",
              "    <tr>\n",
              "      <th>9526</th>\n",
              "      <td>0.0</td>\n",
              "      <td>0.04</td>\n",
              "      <td>0.04</td>\n",
              "    </tr>\n",
              "  </tbody>\n",
              "</table>\n",
              "<p>92 rows × 3 columns</p>\n",
              "</div>"
            ],
            "text/plain": [
              "         min    max    dif\n",
              "USER_ID                   \n",
              "2881     0.0  58.63  58.63\n",
              "7206     0.0  57.46  57.46\n",
              "6792     0.0  41.53  41.53\n",
              "2166     0.0  29.32  29.32\n",
              "831      0.0  25.98  25.98\n",
              "...      ...    ...    ...\n",
              "8927     0.0   0.06   0.06\n",
              "6207     0.0   0.04   0.04\n",
              "2182     0.0   0.04   0.04\n",
              "8479     0.0   0.04   0.04\n",
              "9526     0.0   0.04   0.04\n",
              "\n",
              "[92 rows x 3 columns]"
            ]
          },
          "execution_count": 40,
          "metadata": {},
          "output_type": "execute_result"
        }
      ],
      "source": [
        "revenues['dif'] = revenues['max'] - revenues['min']\n",
        "revenues.sort_values(by='dif', ascending=False).query('dif > 0')"
      ]
    },
    {
      "cell_type": "markdown",
      "metadata": {
        "id": "u_G7PRphkkpO"
      },
      "source": [
        "Can a user have records with both zero and positive revenue ?\n",
        "\n",
        "Let's make the assumption that the records are user visits to the service, and the experimental unit is users.\n"
      ]
    },
    {
      "cell_type": "code",
      "execution_count": 42,
      "metadata": {
        "execution": {
          "iopub.execute_input": "2022-09-16T18:23:23.411317Z",
          "iopub.status.busy": "2022-09-16T18:23:23.410519Z",
          "iopub.status.idle": "2022-09-16T18:23:23.425157Z",
          "shell.execute_reply": "2022-09-16T18:23:23.423982Z",
          "shell.execute_reply.started": "2022-09-16T18:23:23.411275Z"
        },
        "id": "R5GdAtTXkkpP",
        "trusted": true
      },
      "outputs": [
        {
          "data": {
            "text/plain": [
              "USER_ID\n",
              "2        0.00\n",
              "3        0.00\n",
              "4        0.00\n",
              "5        0.00\n",
              "6        0.00\n",
              "         ... \n",
              "9993     0.00\n",
              "9995     0.00\n",
              "9996     6.46\n",
              "9998     0.00\n",
              "10000    0.00\n",
              "Name: REVENUE, Length: 6323, dtype: float64"
            ]
          },
          "execution_count": 42,
          "metadata": {},
          "output_type": "execute_result"
        }
      ],
      "source": [
        "# TODO : Group the data for each user and sum the revenue for each to get one record per user\n",
        "data_grouped = data_cleared.groupby('USER_ID')['REVENUE'].sum()\n",
        "data_grouped"
      ]
    },
    {
      "cell_type": "code",
      "execution_count": 49,
      "metadata": {
        "execution": {
          "iopub.execute_input": "2022-09-16T18:23:23.428999Z",
          "iopub.status.busy": "2022-09-16T18:23:23.428689Z",
          "iopub.status.idle": "2022-09-16T18:23:23.783807Z",
          "shell.execute_reply": "2022-09-16T18:23:23.782679Z",
          "shell.execute_reply.started": "2022-09-16T18:23:23.428972Z"
        },
        "id": "Q7H93ZwNkkpP",
        "trusted": true
      },
      "outputs": [
        {
          "data": {
            "text/plain": [
              "(count    10000.000000\n",
              " mean         0.099447\n",
              " std          2.318529\n",
              " min          0.000000\n",
              " 25%          0.000000\n",
              " 50%          0.000000\n",
              " 75%          0.000000\n",
              " max        196.010000\n",
              " Name: REVENUE, dtype: float64,\n",
              " count    6323.000000\n",
              " mean        0.126279\n",
              " std         1.557557\n",
              " min         0.000000\n",
              " 25%         0.000000\n",
              " 50%         0.000000\n",
              " 75%         0.000000\n",
              " max        58.630000\n",
              " Name: REVENUE, dtype: float64)"
            ]
          },
          "execution_count": 49,
          "metadata": {},
          "output_type": "execute_result"
        },
        {
          "data": {
            "image/png": "[encoded data removed]",
            "text/plain": [
              "<Figure size 640x480 with 1 Axes>"
            ]
          },
          "metadata": {},
          "output_type": "display_data"
        }
      ],
      "source": [
        "# TODO : Visualize the resulting distribution of the data again.\n",
        "sns.boxplot(data=data_grouped)\n",
        "\n",
        "data['REVENUE'].describe(), data_grouped.describe()"
      ]
    },
    {
      "cell_type": "markdown",
      "metadata": {
        "id": "_NTyRweHkkpP"
      },
      "source": [
        "It should be noted that during the transformation, the quantiles in the test group increased\n",
        "\n",
        "It can be seen that in the test group, almost all quantile statistics, except for the minimum, are at a slightly lower level.\n",
        "\n",
        "Let's look at various statistics in the context of AB test groups for all users"
      ]
    },
    {
      "cell_type": "code",
      "execution_count": 57,
      "metadata": {
        "execution": {
          "iopub.execute_input": "2022-09-16T18:23:23.78594Z",
          "iopub.status.busy": "2022-09-16T18:23:23.785212Z",
          "iopub.status.idle": "2022-09-16T18:23:23.813162Z",
          "shell.execute_reply": "2022-09-16T18:23:23.812388Z",
          "shell.execute_reply.started": "2022-09-16T18:23:23.785905Z"
        },
        "id": "9QF5FZTAkkpP",
        "trusted": true
      },
      "outputs": [
        {
          "data": {
            "text/html": [
              "<div>\n",
              "<style scoped>\n",
              "    .dataframe tbody tr th:only-of-type {\n",
              "        vertical-align: middle;\n",
              "    }\n",
              "\n",
              "    .dataframe tbody tr th {\n",
              "        vertical-align: top;\n",
              "    }\n",
              "\n",
              "    .dataframe thead th {\n",
              "        text-align: right;\n",
              "    }\n",
              "</style>\n",
              "<table border=\"1\" class=\"dataframe\">\n",
              "  <thead>\n",
              "    <tr style=\"text-align: right;\">\n",
              "      <th></th>\n",
              "      <th>mean</th>\n",
              "      <th>median</th>\n",
              "      <th>std</th>\n",
              "      <th>count</th>\n",
              "    </tr>\n",
              "    <tr>\n",
              "      <th>VARIANT_NAME</th>\n",
              "      <th></th>\n",
              "      <th></th>\n",
              "      <th></th>\n",
              "      <th></th>\n",
              "    </tr>\n",
              "  </thead>\n",
              "  <tbody>\n",
              "    <tr>\n",
              "      <th>control</th>\n",
              "      <td>0.089703</td>\n",
              "      <td>0.0</td>\n",
              "      <td>1.159256</td>\n",
              "      <td>4983</td>\n",
              "    </tr>\n",
              "    <tr>\n",
              "      <th>variant</th>\n",
              "      <td>0.070070</td>\n",
              "      <td>0.0</td>\n",
              "      <td>1.314802</td>\n",
              "      <td>5016</td>\n",
              "    </tr>\n",
              "  </tbody>\n",
              "</table>\n",
              "</div>"
            ],
            "text/plain": [
              "                  mean  median       std  count\n",
              "VARIANT_NAME                                   \n",
              "control       0.089703     0.0  1.159256   4983\n",
              "variant       0.070070     0.0  1.314802   5016"
            ]
          },
          "metadata": {},
          "output_type": "display_data"
        },
        {
          "data": {
            "text/html": [
              "<div>\n",
              "<style scoped>\n",
              "    .dataframe tbody tr th:only-of-type {\n",
              "        vertical-align: middle;\n",
              "    }\n",
              "\n",
              "    .dataframe tbody tr th {\n",
              "        vertical-align: top;\n",
              "    }\n",
              "\n",
              "    .dataframe thead th {\n",
              "        text-align: right;\n",
              "    }\n",
              "</style>\n",
              "<table border=\"1\" class=\"dataframe\">\n",
              "  <thead>\n",
              "    <tr style=\"text-align: right;\">\n",
              "      <th></th>\n",
              "      <th>mean</th>\n",
              "      <th>median</th>\n",
              "      <th>std</th>\n",
              "      <th>count</th>\n",
              "    </tr>\n",
              "    <tr>\n",
              "      <th>VARIANT_NAME</th>\n",
              "      <th></th>\n",
              "      <th></th>\n",
              "      <th></th>\n",
              "      <th></th>\n",
              "    </tr>\n",
              "  </thead>\n",
              "  <tbody>\n",
              "    <tr>\n",
              "      <th>control</th>\n",
              "      <td>0.129013</td>\n",
              "      <td>0.0</td>\n",
              "      <td>3.007524</td>\n",
              "      <td>4984</td>\n",
              "    </tr>\n",
              "    <tr>\n",
              "      <th>variant</th>\n",
              "      <td>0.070070</td>\n",
              "      <td>0.0</td>\n",
              "      <td>1.314802</td>\n",
              "      <td>5016</td>\n",
              "    </tr>\n",
              "  </tbody>\n",
              "</table>\n",
              "</div>"
            ],
            "text/plain": [
              "                  mean  median       std  count\n",
              "VARIANT_NAME                                   \n",
              "control       0.129013     0.0  3.007524   4984\n",
              "variant       0.070070     0.0  1.314802   5016"
            ]
          },
          "metadata": {},
          "output_type": "display_data"
        },
        {
          "data": {
            "text/html": [
              "<div>\n",
              "<style scoped>\n",
              "    .dataframe tbody tr th:only-of-type {\n",
              "        vertical-align: middle;\n",
              "    }\n",
              "\n",
              "    .dataframe tbody tr th {\n",
              "        vertical-align: top;\n",
              "    }\n",
              "\n",
              "    .dataframe thead th {\n",
              "        text-align: right;\n",
              "    }\n",
              "</style>\n",
              "<table border=\"1\" class=\"dataframe\">\n",
              "  <thead>\n",
              "    <tr style=\"text-align: right;\">\n",
              "      <th></th>\n",
              "      <th>mean</th>\n",
              "      <th>median</th>\n",
              "      <th>std</th>\n",
              "      <th>count</th>\n",
              "    </tr>\n",
              "    <tr>\n",
              "      <th>VARIANT_NAME</th>\n",
              "      <th></th>\n",
              "      <th></th>\n",
              "      <th></th>\n",
              "      <th></th>\n",
              "    </tr>\n",
              "  </thead>\n",
              "  <tbody>\n",
              "    <tr>\n",
              "      <th>control</th>\n",
              "      <td>0.03931</td>\n",
              "      <td>0.0</td>\n",
              "      <td>1.848269</td>\n",
              "      <td>1</td>\n",
              "    </tr>\n",
              "    <tr>\n",
              "      <th>variant</th>\n",
              "      <td>0.00000</td>\n",
              "      <td>0.0</td>\n",
              "      <td>0.000000</td>\n",
              "      <td>0</td>\n",
              "    </tr>\n",
              "  </tbody>\n",
              "</table>\n",
              "</div>"
            ],
            "text/plain": [
              "                 mean  median       std  count\n",
              "VARIANT_NAME                                  \n",
              "control       0.03931     0.0  1.848269      1\n",
              "variant       0.00000     0.0  0.000000      0"
            ]
          },
          "metadata": {},
          "output_type": "display_data"
        }
      ],
      "source": [
        "# TODO : get metrics by groups\n",
        "\n",
        "\n",
        "data_grouped1 = data_cleared.groupby('VARIANT_NAME')['REVENUE'].agg(['mean', 'median', 'std', 'count'])\n",
        "display(data_grouped1)\n",
        "\n",
        "# TODO : create two additional metrics to see relative changes\n",
        "data_grouped2 = data.groupby('VARIANT_NAME')['REVENUE'].agg(['mean', 'median', 'std', 'count'])\n",
        "display(data_grouped2)\n",
        "\n",
        "data_grouped_diff = data_grouped2 - data_grouped1\n",
        "display(data_grouped_diff)\n",
        "\n",
        "# TODO : add them to the rest of the metrics in a separate group\n"
      ]
    },
    {
      "cell_type": "markdown",
      "metadata": {
        "id": "-FEgWEXckkpP"
      },
      "source": [
        "What can you see in the test group about the total amount of revenue, the average check per user, and the number of orders per user slightly increased ?\n",
        "\n",
        "Let's also see how paying users behave :"
      ]
    },
    {
      "cell_type": "code",
      "execution_count": null,
      "metadata": {
        "execution": {
          "iopub.execute_input": "2022-09-16T18:23:23.814781Z",
          "iopub.status.busy": "2022-09-16T18:23:23.814201Z",
          "iopub.status.idle": "2022-09-16T18:23:23.842362Z",
          "shell.execute_reply": "2022-09-16T18:23:23.841593Z",
          "shell.execute_reply.started": "2022-09-16T18:23:23.814749Z"
        },
        "id": "ZM1LQ1VrkkpQ",
        "trusted": true
      },
      "outputs": [],
      "source": [
        "# TODO : get metrics by groups\n",
        "\n",
        "\n",
        "\n",
        "# TODO : create two additional metrics to see relative changes\n",
        "\n",
        "\n",
        "# TODO : add them to the rest of the metrics in a separate group\n"
      ]
    },
    {
      "cell_type": "markdown",
      "metadata": {
        "id": "RozYt1eZkkpQ"
      },
      "source": [
        "Let's look at the distributions of all and only paying users"
      ]
    },
    {
      "cell_type": "code",
      "execution_count": 59,
      "metadata": {
        "execution": {
          "iopub.execute_input": "2022-09-16T18:23:23.844477Z",
          "iopub.status.busy": "2022-09-16T18:23:23.843826Z",
          "iopub.status.idle": "2022-09-16T18:23:24.587221Z",
          "shell.execute_reply": "2022-09-16T18:23:24.585887Z",
          "shell.execute_reply.started": "2022-09-16T18:23:23.844435Z"
        },
        "id": "Xmm-HM-ZkkpQ",
        "trusted": true
      },
      "outputs": [
        {
          "name": "stderr",
          "output_type": "stream",
          "text": [
            "C:\\Users\\d1411\\AppData\\Local\\Temp\\ipykernel_23100\\160310950.py:4: UserWarning: \n",
            "\n",
            "`distplot` is a deprecated function and will be removed in seaborn v0.14.0.\n",
            "\n",
            "Please adapt your code to use either `displot` (a figure-level function with\n",
            "similar flexibility) or `histplot` (an axes-level function for histograms).\n",
            "\n",
            "For a guide to updating your code to use the new functions, please see\n",
            "https://gist.github.com/mwaskom/de44147ed2974457ad6372750bbe5751\n",
            "\n",
            "  sns.distplot(df.loc[df['VARIANT_NAME'] == 'control', 'REVENUE'], ax = axes[0], label='control')\n",
            "C:\\Users\\d1411\\AppData\\Local\\Temp\\ipykernel_23100\\160310950.py:5: UserWarning: \n",
            "\n",
            "`distplot` is a deprecated function and will be removed in seaborn v0.14.0.\n",
            "\n",
            "Please adapt your code to use either `displot` (a figure-level function with\n",
            "similar flexibility) or `histplot` (an axes-level function for histograms).\n",
            "\n",
            "For a guide to updating your code to use the new functions, please see\n",
            "https://gist.github.com/mwaskom/de44147ed2974457ad6372750bbe5751\n",
            "\n",
            "  sns.distplot(df.loc[df['VARIANT_NAME'] == 'variant', 'REVENUE'], ax = axes[0], label='variant')\n",
            "C:\\Users\\d1411\\AppData\\Local\\Temp\\ipykernel_23100\\160310950.py:9: UserWarning: \n",
            "\n",
            "`distplot` is a deprecated function and will be removed in seaborn v0.14.0.\n",
            "\n",
            "Please adapt your code to use either `displot` (a figure-level function with\n",
            "similar flexibility) or `histplot` (an axes-level function for histograms).\n",
            "\n",
            "For a guide to updating your code to use the new functions, please see\n",
            "https://gist.github.com/mwaskom/de44147ed2974457ad6372750bbe5751\n",
            "\n",
            "  sns.distplot(df.loc[(df['VARIANT_NAME'] == 'control') & (df['REVENUE'] > 0), 'REVENUE'], ax = axes[1], label='control' )\n",
            "C:\\Users\\d1411\\AppData\\Local\\Temp\\ipykernel_23100\\160310950.py:10: UserWarning: \n",
            "\n",
            "`distplot` is a deprecated function and will be removed in seaborn v0.14.0.\n",
            "\n",
            "Please adapt your code to use either `displot` (a figure-level function with\n",
            "similar flexibility) or `histplot` (an axes-level function for histograms).\n",
            "\n",
            "For a guide to updating your code to use the new functions, please see\n",
            "https://gist.github.com/mwaskom/de44147ed2974457ad6372750bbe5751\n",
            "\n",
            "  sns.distplot(df.loc[(df['VARIANT_NAME'] == 'variant') & (df['REVENUE'] > 0), 'REVENUE'], ax = axes[1], label='variant' )\n"
          ]
        },
        {
          "data": {
            "image/png": "[encoded data removed]",
            "text/plain": [
              "<Figure size 1000x800 with 2 Axes>"
            ]
          },
          "metadata": {},
          "output_type": "display_data"
        }
      ],
      "source": [
        "df = data_cleared\n",
        "f, axes = plt.subplots(2, figsize=(10,8))\n",
        "# build graphs of distributions of all users\n",
        "sns.distplot(df.loc[df['VARIANT_NAME'] == 'control', 'REVENUE'], ax = axes[0], label='control')\n",
        "sns.distplot(df.loc[df['VARIANT_NAME'] == 'variant', 'REVENUE'], ax = axes[0], label='variant')\n",
        "axes[0].set_title('Distribution of revenue of all users')\n",
        "\n",
        "# build graphs of distributions of paying users\n",
        "sns.distplot(df.loc[(df['VARIANT_NAME'] == 'control') & (df['REVENUE'] > 0), 'REVENUE'], ax = axes[1], label='control' )\n",
        "sns.distplot(df.loc[(df['VARIANT_NAME'] == 'variant') & (df['REVENUE'] > 0), 'REVENUE'], ax = axes[1], label='variant' )\n",
        "axes[1].set_title('Paying user revenue distribution')\n",
        "plt.legend()\n",
        "plt.subplots_adjust(hspace = 0.3)"
      ]
    },
    {
      "cell_type": "markdown",
      "metadata": {
        "id": "5vwsQSeVkkpQ"
      },
      "source": [
        "### Statistical Analysis <a name=\"Statistical\"/>"
      ]
    },
    {
      "cell_type": "markdown",
      "metadata": {
        "id": "lJP78Hc_kkpQ"
      },
      "source": [
        "#### Checking if the distribution is normal"
      ]
    },
    {
      "cell_type": "markdown",
      "metadata": {
        "id": "BVRKdz3WkkpQ"
      },
      "source": [
        "Based on their previous graph, we see that the data is not normally distributed."
      ]
    },
    {
      "cell_type": "code",
      "execution_count": 60,
      "metadata": {
        "execution": {
          "iopub.execute_input": "2022-09-16T18:23:24.589024Z",
          "iopub.status.busy": "2022-09-16T18:23:24.588685Z",
          "iopub.status.idle": "2022-09-16T18:23:24.597871Z",
          "shell.execute_reply": "2022-09-16T18:23:24.596794Z",
          "shell.execute_reply.started": "2022-09-16T18:23:24.588995Z"
        },
        "id": "je2NXscMkkpQ",
        "trusted": true
      },
      "outputs": [
        {
          "name": "stderr",
          "output_type": "stream",
          "text": [
            "c:\\Users\\d1411\\anaconda3\\envs\\JUPYTER_DEFAULT\\Lib\\site-packages\\scipy\\stats\\_axis_nan_policy.py:531: UserWarning: scipy.stats.shapiro: For N > 5000, computed p-value may not be accurate. Current N is 5016.\n",
            "  res = hypotest_fun_out(*samples, **kwds)\n"
          ]
        },
        {
          "data": {
            "text/plain": [
              "(ShapiroResult(statistic=0.05089573515075019, pvalue=1.5781582594792284e-94),\n",
              " ShapiroResult(statistic=0.027033073451830147, pvalue=2.7310104028899288e-95))"
            ]
          },
          "execution_count": 60,
          "metadata": {},
          "output_type": "execute_result"
        }
      ],
      "source": [
        "# TODO : Use the Shapiro-Wilk criterion to confirm it\n",
        "shapiro(df.loc[df['VARIANT_NAME'] == 'control', 'REVENUE']), shapiro(df.loc[df['VARIANT_NAME'] == 'variant', 'REVENUE'])"
      ]
    },
    {
      "cell_type": "markdown",
      "metadata": {
        "id": "Pq-RbAERkkpR"
      },
      "source": [
        "Is the null hypothesis about the normal distribution of the data rejected ?"
      ]
    },
    {
      "cell_type": "markdown",
      "metadata": {},
      "source": [
        "P-value is extremely small, we reject the null hypothesis"
      ]
    },
    {
      "cell_type": "markdown",
      "metadata": {
        "id": "nYxHXTxpkkpR"
      },
      "source": [
        "#### Mann-Whitney test"
      ]
    },
    {
      "cell_type": "markdown",
      "metadata": {
        "id": "eGKBrlFnkkpR"
      },
      "source": [
        "Let's check the value of the statistics of the Mann-Whitney test. Some sources have a limitation of applicability in case of duplicate data. There are a lot of repetitions in our sample, and especially a lot of zero values, so in this case we need to be careful about this criterion."
      ]
    },
    {
      "cell_type": "code",
      "execution_count": 62,
      "metadata": {
        "execution": {
          "iopub.execute_input": "2022-09-16T18:23:24.600052Z",
          "iopub.status.busy": "2022-09-16T18:23:24.599408Z",
          "iopub.status.idle": "2022-09-16T18:23:24.609697Z",
          "shell.execute_reply": "2022-09-16T18:23:24.608442Z",
          "shell.execute_reply.started": "2022-09-16T18:23:24.600019Z"
        },
        "id": "ftj_LlaZkkpR",
        "trusted": true
      },
      "outputs": [
        {
          "data": {
            "text/plain": [
              "REVENUE\n",
              "True     9848\n",
              "False     151\n",
              "Name: count, dtype: int64"
            ]
          },
          "execution_count": 62,
          "metadata": {},
          "output_type": "execute_result"
        }
      ],
      "source": [
        "(df['REVENUE'] == 0).value_counts()"
      ]
    },
    {
      "cell_type": "code",
      "execution_count": 63,
      "metadata": {
        "execution": {
          "iopub.execute_input": "2022-09-16T18:23:24.611478Z",
          "iopub.status.busy": "2022-09-16T18:23:24.611079Z",
          "iopub.status.idle": "2022-09-16T18:23:24.627499Z",
          "shell.execute_reply": "2022-09-16T18:23:24.626266Z",
          "shell.execute_reply.started": "2022-09-16T18:23:24.611448Z"
        },
        "id": "liLsCl00kkpR",
        "trusted": true
      },
      "outputs": [
        {
          "data": {
            "text/plain": [
              "MannwhitneyuResult(statistic=12516548.0, pvalue=0.5291970335120277)"
            ]
          },
          "execution_count": 63,
          "metadata": {},
          "output_type": "execute_result"
        }
      ],
      "source": [
        "# TODO : Check on the data of all users the value of the statistics of the Mann-Whitney test\n",
        "mannwhitneyu(df.loc[df['VARIANT_NAME'] == 'control', 'REVENUE'], df.loc[df['VARIANT_NAME'] == 'variant', 'REVENUE'])"
      ]
    },
    {
      "cell_type": "markdown",
      "metadata": {},
      "source": [
        "P-value is large and we cannot reject the null hypothesis. There is no statistically significant difference between the distributions of the two groups "
      ]
    },
    {
      "cell_type": "code",
      "execution_count": 64,
      "metadata": {
        "execution": {
          "iopub.execute_input": "2022-09-16T18:23:24.632496Z",
          "iopub.status.busy": "2022-09-16T18:23:24.632144Z",
          "iopub.status.idle": "2022-09-16T18:23:24.644752Z",
          "shell.execute_reply": "2022-09-16T18:23:24.643569Z",
          "shell.execute_reply.started": "2022-09-16T18:23:24.632466Z"
        },
        "id": "tCCcVEM4kkpS",
        "trusted": true
      },
      "outputs": [
        {
          "data": {
            "text/plain": [
              "MannwhitneyuResult(statistic=3284.0, pvalue=0.10145877111519161)"
            ]
          },
          "execution_count": 64,
          "metadata": {},
          "output_type": "execute_result"
        }
      ],
      "source": [
        "# TODO : Check on the data of only the users that pay, the value of the statistics of the Mann-Whitney test\n",
        "mannwhitneyu(df.loc[(df['VARIANT_NAME'] == 'control') & (df['REVENUE'] > 0), 'REVENUE'], df.loc[(df['VARIANT_NAME'] == 'variant') & (df['REVENUE'] > 0), 'REVENUE'])"
      ]
    },
    {
      "cell_type": "markdown",
      "metadata": {},
      "source": [
        "P-value is much lower, but still exceed standard alpha level of 0.05. There's approximately a 10.1% chance that the observed differences between the groups are due to random variation"
      ]
    },
    {
      "cell_type": "markdown",
      "metadata": {
        "execution": {
          "iopub.execute_input": "2022-09-16T17:49:10.365079Z",
          "iopub.status.busy": "2022-09-16T17:49:10.3638Z",
          "iopub.status.idle": "2022-09-16T17:49:10.369587Z",
          "shell.execute_reply": "2022-09-16T17:49:10.368719Z",
          "shell.execute_reply.started": "2022-09-16T17:49:10.365037Z"
        },
        "id": "XBp259a8kkpS"
      },
      "source": [
        "#### Bootstrap"
      ]
    },
    {
      "cell_type": "markdown",
      "metadata": {
        "id": "0xpO-CmekkpS"
      },
      "source": [
        "In order to get more complete information about the differences between the average values of the ab test groups, we will use bootstap.\n",
        "\n",
        "Let's create a function to get back samples and get a confidence interval, and then look at the sample statistics"
      ]
    },
    {
      "cell_type": "code",
      "execution_count": 68,
      "metadata": {
        "execution": {
          "iopub.execute_input": "2022-09-16T18:23:24.646134Z",
          "iopub.status.busy": "2022-09-16T18:23:24.645844Z",
          "iopub.status.idle": "2022-09-16T18:23:24.653955Z",
          "shell.execute_reply": "2022-09-16T18:23:24.652612Z",
          "shell.execute_reply.started": "2022-09-16T18:23:24.646108Z"
        },
        "id": "3yLh1toVkkpS",
        "trusted": true
      },
      "outputs": [],
      "source": [
        "def get_bootstrap_samples(data, n_samples=1000):\n",
        "    indices = np.random.randint(0, len(data), (n_samples, len(data)))\n",
        "    samples = data[indices]\n",
        "    return samples\n",
        "\n",
        "def stat_intervals(stat, alpha=0.05):\n",
        "    boundaries = np.percentile(stat, [100 * alpha / 2., 100 * (1 - alpha / 2.)])\n",
        "    return boundaries"
      ]
    },
    {
      "cell_type": "code",
      "execution_count": 73,
      "metadata": {
        "execution": {
          "iopub.execute_input": "2022-09-16T18:23:24.656775Z",
          "iopub.status.busy": "2022-09-16T18:23:24.656318Z",
          "iopub.status.idle": "2022-09-16T18:23:25.935543Z",
          "shell.execute_reply": "2022-09-16T18:23:25.934505Z",
          "shell.execute_reply.started": "2022-09-16T18:23:24.656733Z"
        },
        "id": "vAgJqb7lkkpS",
        "trusted": true
      },
      "outputs": [
        {
          "name": "stdout",
          "output_type": "stream",
          "text": [
            "Mean difference between variant and control: -0.019336727452285138\n",
            "95% Confidence Interval for the mean difference: [-0.06467591  0.02942   ]\n"
          ]
        }
      ],
      "source": [
        "# TODO : Generate samples for all users\n",
        "\n",
        "control_all = df.loc[df['VARIANT_NAME'] == 'control', 'REVENUE'].values\n",
        "variant_all = df.loc[df['VARIANT_NAME'] == 'variant', 'REVENUE'].values\n",
        "\n",
        "# Generate bootstrap samples for control and variant groups\n",
        "n_bootstrap_samples = 1000\n",
        "bootstrap_samples_control_all = get_bootstrap_samples(control_all, n_samples=n_bootstrap_samples)\n",
        "bootstrap_samples_variant_all = get_bootstrap_samples(variant_all, n_samples=n_bootstrap_samples)\n",
        "\n",
        "# Compute means for each bootstrap sample\n",
        "control_means_all = np.mean(bootstrap_samples_control_all, axis=1)\n",
        "variant_means_all = np.mean(bootstrap_samples_variant_all, axis=1)\n",
        "\n",
        "# Calculate the difference in means for each bootstrap sample\n",
        "mean_diffs_all = variant_means_all - control_means_all\n",
        "\n",
        "# Calculate the 95% confidence interval for the difference in means\n",
        "confidence_interval_all = stat_intervals(mean_diffs_all, alpha=0.05)\n",
        "\n",
        "# Output the results\n",
        "print(f\"Mean difference between variant and control: {np.mean(mean_diffs_all)}\")\n",
        "print(f\"95% Confidence Interval for the mean difference: {confidence_interval}\")\n",
        "\n"
      ]
    },
    {
      "cell_type": "code",
      "execution_count": 74,
      "metadata": {
        "execution": {
          "iopub.execute_input": "2022-09-16T18:23:25.937087Z",
          "iopub.status.busy": "2022-09-16T18:23:25.936759Z",
          "iopub.status.idle": "2022-09-16T18:23:25.964331Z",
          "shell.execute_reply": "2022-09-16T18:23:25.96321Z",
          "shell.execute_reply.started": "2022-09-16T18:23:25.937057Z"
        },
        "id": "pwXNe9H4kkpS",
        "trusted": true
      },
      "outputs": [
        {
          "name": "stdout",
          "output_type": "stream",
          "text": [
            "Mean difference between variant and control (REVENUE > 0): -0.7372174384669481\n",
            "95% Confidence Interval for the mean difference (REVENUE > 0): [-3.46048207  2.29791399]\n"
          ]
        }
      ],
      "source": [
        "# TODO : Generate samples for only paying users\n",
        "\n",
        "control_pay = df.loc[(df['VARIANT_NAME'] == 'control') & (df['REVENUE'] > 0), 'REVENUE'].values\n",
        "variant_pay = df.loc[(df['VARIANT_NAME'] == 'variant') & (df['REVENUE'] > 0), 'REVENUE'].values\n",
        "\n",
        "# Generate bootstrap samples for control and variant groups (only for REVENUE > 0)\n",
        "n_bootstrap_samples = 1000\n",
        "bootstrap_samples_control_pay = get_bootstrap_samples(control_pay, n_samples=n_bootstrap_samples)\n",
        "bootstrap_samples_variant_pay = get_bootstrap_samples(variant_pay, n_samples=n_bootstrap_samples)\n",
        "\n",
        "# Compute means for each bootstrap sample\n",
        "control_means_pay = np.mean(bootstrap_samples_control_pay, axis=1)\n",
        "variant_means_pay = np.mean(bootstrap_samples_variant_pay, axis=1)\n",
        "\n",
        "# Calculate the difference in means for each bootstrap sample\n",
        "mean_diffs_pay = variant_means_pay - control_means_pay\n",
        "\n",
        "# Calculate the 95% confidence interval for the difference in means\n",
        "confidence_interval_pay = stat_intervals(mean_diffs_pay, alpha=0.05)\n",
        "\n",
        "# Output the results\n",
        "print(f\"Mean difference between variant and control (REVENUE > 0): {np.mean(mean_diffs_pay)}\")\n",
        "print(f\"95% Confidence Interval for the mean difference (REVENUE > 0): {confidence_interval_pay}\")"
      ]
    },
    {
      "cell_type": "markdown",
      "metadata": {
        "id": "7OsUPGxnkkpT"
      },
      "source": [
        "Let's look at the distribution of means in the ab test groups"
      ]
    },
    {
      "cell_type": "code",
      "execution_count": 75,
      "metadata": {},
      "outputs": [
        {
          "data": {
            "image/png": "[encoded data removed]",
            "text/plain": [
              "<Figure size 1000x600 with 1 Axes>"
            ]
          },
          "metadata": {},
          "output_type": "display_data"
        },
        {
          "data": {
            "image/png": "[encoded data removed]",
            "text/plain": [
              "<Figure size 1000x600 with 1 Axes>"
            ]
          },
          "metadata": {},
          "output_type": "display_data"
        }
      ],
      "source": [
        "# Function to plot bootstrap results\n",
        "def plot_bootstrap_results(control_means, variant_means, title):\n",
        "    plt.figure(figsize=(10, 6))\n",
        "    \n",
        "    # Plot control group means\n",
        "    plt.hist(control_means, bins=50, alpha=0.5, label='Control Group', color='blue', density=True)\n",
        "    \n",
        "    # Plot variant group means\n",
        "    plt.hist(variant_means, bins=50, alpha=0.5, label='Variant Group', color='green', density=True)\n",
        "    \n",
        "    # Add labels and title\n",
        "    plt.title(title)\n",
        "    plt.xlabel('Mean Revenue')\n",
        "    plt.ylabel('Density')\n",
        "    plt.legend(loc='upper right')\n",
        "    plt.grid(True)\n",
        "    plt.show()\n",
        "\n",
        "# Plot for all users\n",
        "plot_bootstrap_results(control_means_all, variant_means_all, 'Bootstrap Distribution of Means (All Customers)')\n",
        "\n",
        "\n",
        "# Plot for paying customers\n",
        "plot_bootstrap_results(control_means_pay, variant_means_pay, 'Bootstrap Distribution of Means (Paying Customers)')"
      ]
    },
    {
      "cell_type": "markdown",
      "metadata": {
        "id": "8MXUz0CEkkpT"
      },
      "source": [
        "Do you see any difference ? What about the confidence intervals ? Conclude.\n",
        "\n",
        "- For both all customers and paying customers, the results of the bootstrap analysis suggest that the observed differences in mean revenue between the variant and control groups are not statistically significant. The confidence intervals for both groups include zero, meaning the differences are likely due to random chance, and there is no conclusive evidence that the variant either improves or worsens revenue outcomes compared to the control.\n",
        "\n",
        "Let's evaluate the difference between the groups: look at the distribution of the mean difference and build confidence intervals for it. To do this, we will create a function for visualization"
      ]
    },
    {
      "cell_type": "code",
      "execution_count": 76,
      "metadata": {
        "execution": {
          "iopub.execute_input": "2022-09-16T18:23:26.628052Z",
          "iopub.status.busy": "2022-09-16T18:23:26.62643Z",
          "iopub.status.idle": "2022-09-16T18:23:26.639469Z",
          "shell.execute_reply": "2022-09-16T18:23:26.638694Z",
          "shell.execute_reply.started": "2022-09-16T18:23:26.628017Z"
        },
        "id": "bBIz3jkCkkpT",
        "trusted": true
      },
      "outputs": [],
      "source": [
        "def plot_distribution_and_stat_intervals(variant, control, title, alpha=0.05):\n",
        "    \"\"\" Plot the distribution of the mean difference and return the confidence intervals \"\"\"\n",
        "    f, ax = plt.subplots()\n",
        "    # get data for coloring confidence intervals\n",
        "    points = sns.kdeplot(variant - control, shade=True).get_lines()[0].get_data()\n",
        "    x = points[0]\n",
        "    y = points[1]\n",
        "    ymin, ymax = plt.ylim()\n",
        "    # highlight the zero value and the bounds of the confidence interval\n",
        "    plt.vlines(0, 0, ymax, label='0', color='gray')\n",
        "    plt.vlines(stat_intervals(variant - control, alpha)[0], 0, ymax, linestyles=\"dashed\")\n",
        "    plt.vlines(stat_intervals(variant - control, alpha)[1], 0, ymax, linestyles=\"dashed\")\n",
        "    # color the confidence interval and zones outside it\n",
        "    plt.fill_between(x,y,\n",
        "                     where = (x >= stat_intervals(variant - control, alpha)[1]),\n",
        "                     color='gainsboro')\n",
        "    plt.fill_between(x,y,\n",
        "                     where = (x <= stat_intervals(variant - control, alpha)[0]),\n",
        "                     color='gainsboro')\n",
        "    plt.fill_between(x,y,\n",
        "                     where = ((x >= stat_intervals(variant - control, alpha)[0])\n",
        "                              & (x <= stat_intervals(variant - control, alpha)[1])),\n",
        "                     color='red',\n",
        "                     label = '95% confidence interval')\n",
        "    plt.title(f'Distribution of difference between means (variant - control) {title}; {100*(1-alpha)}% Confidence interval for difference of means: {stat_intervals(variant - control, alpha)}')\n",
        "    plt.legend(prop={'size':13})\n",
        "    # return confidence interval data\n",
        "    return stat_intervals(variant - control)"
      ]
    },
    {
      "cell_type": "code",
      "execution_count": 83,
      "metadata": {},
      "outputs": [
        {
          "data": {
            "image/png": "[encoded data removed]",
            "text/plain": [
              "<Figure size 1000x600 with 1 Axes>"
            ]
          },
          "metadata": {},
          "output_type": "display_data"
        },
        {
          "data": {
            "image/png": "[encoded data removed]",
            "text/plain": [
              "<Figure size 1000x600 with 1 Axes>"
            ]
          },
          "metadata": {},
          "output_type": "display_data"
        }
      ],
      "source": [
        "# Function to plot the distribution of mean difference and confidence intervals\n",
        "def plot_distribution_and_stat_intervals(variant_means, control_means, title, alpha=0.05):\n",
        "    \"\"\"Plot the distribution of the mean difference and return the confidence intervals.\"\"\"\n",
        "    # Compute the mean differences\n",
        "    mean_diff = variant_means - control_means\n",
        "    \n",
        "    # Calculate confidence intervals for the mean difference\n",
        "    lower_bound, upper_bound = stat_intervals(mean_diff, alpha)\n",
        "    \n",
        "    # Plot the KDE distribution using Seaborn\n",
        "    plt.figure(figsize=(10, 6))\n",
        "    sns.kdeplot(mean_diff, fill=True, color=\"skyblue\", label='Mean Difference (Variant - Control)', alpha=0.6)\n",
        "\n",
        "    # Highlight the confidence interval\n",
        "    plt.axvline(lower_bound, color='red', linestyle='--', label=f'Lower CI Bound: {lower_bound:.3f}')\n",
        "    plt.axvline(upper_bound, color='red', linestyle='--', label=f'Upper CI Bound: {upper_bound:.3f}')\n",
        "    \n",
        "    # Highlight zero (no difference between groups)\n",
        "    plt.axvline(0, color='gray', linestyle='-', label='No Difference (0)')\n",
        "\n",
        "    # Set title and labels\n",
        "    plt.title(f'{title}\\n95% Confidence Interval for the Mean Difference: [{lower_bound:.3f}, {upper_bound:.3f}]')\n",
        "    plt.xlabel('Mean Difference (Variant - Control)')\n",
        "    plt.ylabel('Density')\n",
        "    \n",
        "    # Add legend\n",
        "    plt.legend()\n",
        "    plt.grid(True)\n",
        "    plt.show()\n",
        "    \n",
        "    return lower_bound, upper_bound\n",
        "\n",
        "# Example usage:\n",
        "# Assuming `variant_means` and `control_means` are already computed using bootstrap\n",
        "ci_all_customers = plot_distribution_and_stat_intervals(variant_means_all, control_means_all, 'All Customers', alpha=0.05)\n",
        "ci_paying_customers = plot_distribution_and_stat_intervals(variant_means_pay, control_means_pay, 'Paying Customers', alpha=0.05)"
      ]
    },
    {
      "cell_type": "markdown",
      "metadata": {
        "id": "ZIUmqXtHkkpT"
      },
      "source": [
        "Let's build a graph of the distribution of the difference in the means and get a confidence interval\n",
        "\n",
        "For all users"
      ]
    },
    {
      "cell_type": "code",
      "execution_count": 85,
      "metadata": {
        "execution": {
          "iopub.execute_input": "2022-09-16T18:23:26.641004Z",
          "iopub.status.busy": "2022-09-16T18:23:26.640692Z",
          "iopub.status.idle": "2022-09-16T18:23:26.655336Z",
          "shell.execute_reply": "2022-09-16T18:23:26.654163Z",
          "shell.execute_reply.started": "2022-09-16T18:23:26.640977Z"
        },
        "id": "eQq8UewNkkpT",
        "trusted": true
      },
      "outputs": [
        {
          "ename": "AxisError",
          "evalue": "axis 1 is out of bounds for array of dimension 1",
          "output_type": "error",
          "traceback": [
            "\u001b[1;31m---------------------------------------------------------------------------\u001b[0m",
            "\u001b[1;31mAxisError\u001b[0m                                 Traceback (most recent call last)",
            "Cell \u001b[1;32mIn[85], line 1\u001b[0m\n\u001b[1;32m----> 1\u001b[0m plot_distribution_and_stat_intervals(\u001b[43mnp\u001b[49m\u001b[38;5;241;43m.\u001b[39;49m\u001b[43mmean\u001b[49m\u001b[43m(\u001b[49m\u001b[43mvariant\u001b[49m\u001b[43m,\u001b[49m\u001b[43m \u001b[49m\u001b[43maxis\u001b[49m\u001b[38;5;241;43m=\u001b[39;49m\u001b[38;5;241;43m1\u001b[39;49m\u001b[43m)\u001b[49m,\n\u001b[0;32m      2\u001b[0m                                      np\u001b[38;5;241m.\u001b[39mmean(control, axis\u001b[38;5;241m=\u001b[39m\u001b[38;5;241m1\u001b[39m),\n\u001b[0;32m      3\u001b[0m                                      title\u001b[38;5;241m=\u001b[39m\u001b[38;5;124m'\u001b[39m\u001b[38;5;124mall users\u001b[39m\u001b[38;5;124m'\u001b[39m)\n",
            "File \u001b[1;32mc:\\Users\\d1411\\anaconda3\\envs\\JUPYTER_DEFAULT\\Lib\\site-packages\\numpy\\core\\fromnumeric.py:3504\u001b[0m, in \u001b[0;36mmean\u001b[1;34m(a, axis, dtype, out, keepdims, where)\u001b[0m\n\u001b[0;32m   3501\u001b[0m     \u001b[38;5;28;01melse\u001b[39;00m:\n\u001b[0;32m   3502\u001b[0m         \u001b[38;5;28;01mreturn\u001b[39;00m mean(axis\u001b[38;5;241m=\u001b[39maxis, dtype\u001b[38;5;241m=\u001b[39mdtype, out\u001b[38;5;241m=\u001b[39mout, \u001b[38;5;241m*\u001b[39m\u001b[38;5;241m*\u001b[39mkwargs)\n\u001b[1;32m-> 3504\u001b[0m \u001b[38;5;28;01mreturn\u001b[39;00m \u001b[43m_methods\u001b[49m\u001b[38;5;241;43m.\u001b[39;49m\u001b[43m_mean\u001b[49m\u001b[43m(\u001b[49m\u001b[43ma\u001b[49m\u001b[43m,\u001b[49m\u001b[43m \u001b[49m\u001b[43maxis\u001b[49m\u001b[38;5;241;43m=\u001b[39;49m\u001b[43maxis\u001b[49m\u001b[43m,\u001b[49m\u001b[43m \u001b[49m\u001b[43mdtype\u001b[49m\u001b[38;5;241;43m=\u001b[39;49m\u001b[43mdtype\u001b[49m\u001b[43m,\u001b[49m\n\u001b[0;32m   3505\u001b[0m \u001b[43m                      \u001b[49m\u001b[43mout\u001b[49m\u001b[38;5;241;43m=\u001b[39;49m\u001b[43mout\u001b[49m\u001b[43m,\u001b[49m\u001b[43m \u001b[49m\u001b[38;5;241;43m*\u001b[39;49m\u001b[38;5;241;43m*\u001b[39;49m\u001b[43mkwargs\u001b[49m\u001b[43m)\u001b[49m\n",
            "File \u001b[1;32mc:\\Users\\d1411\\anaconda3\\envs\\JUPYTER_DEFAULT\\Lib\\site-packages\\numpy\\core\\_methods.py:106\u001b[0m, in \u001b[0;36m_mean\u001b[1;34m(a, axis, dtype, out, keepdims, where)\u001b[0m\n\u001b[0;32m    102\u001b[0m arr \u001b[38;5;241m=\u001b[39m asanyarray(a)\n\u001b[0;32m    104\u001b[0m is_float16_result \u001b[38;5;241m=\u001b[39m \u001b[38;5;28;01mFalse\u001b[39;00m\n\u001b[1;32m--> 106\u001b[0m rcount \u001b[38;5;241m=\u001b[39m \u001b[43m_count_reduce_items\u001b[49m\u001b[43m(\u001b[49m\u001b[43marr\u001b[49m\u001b[43m,\u001b[49m\u001b[43m \u001b[49m\u001b[43maxis\u001b[49m\u001b[43m,\u001b[49m\u001b[43m \u001b[49m\u001b[43mkeepdims\u001b[49m\u001b[38;5;241;43m=\u001b[39;49m\u001b[43mkeepdims\u001b[49m\u001b[43m,\u001b[49m\u001b[43m \u001b[49m\u001b[43mwhere\u001b[49m\u001b[38;5;241;43m=\u001b[39;49m\u001b[43mwhere\u001b[49m\u001b[43m)\u001b[49m\n\u001b[0;32m    107\u001b[0m \u001b[38;5;28;01mif\u001b[39;00m rcount \u001b[38;5;241m==\u001b[39m \u001b[38;5;241m0\u001b[39m \u001b[38;5;28;01mif\u001b[39;00m where \u001b[38;5;129;01mis\u001b[39;00m \u001b[38;5;28;01mTrue\u001b[39;00m \u001b[38;5;28;01melse\u001b[39;00m umr_any(rcount \u001b[38;5;241m==\u001b[39m \u001b[38;5;241m0\u001b[39m, axis\u001b[38;5;241m=\u001b[39m\u001b[38;5;28;01mNone\u001b[39;00m):\n\u001b[0;32m    108\u001b[0m     warnings\u001b[38;5;241m.\u001b[39mwarn(\u001b[38;5;124m\"\u001b[39m\u001b[38;5;124mMean of empty slice.\u001b[39m\u001b[38;5;124m\"\u001b[39m, \u001b[38;5;167;01mRuntimeWarning\u001b[39;00m, stacklevel\u001b[38;5;241m=\u001b[39m\u001b[38;5;241m2\u001b[39m)\n",
            "File \u001b[1;32mc:\\Users\\d1411\\anaconda3\\envs\\JUPYTER_DEFAULT\\Lib\\site-packages\\numpy\\core\\_methods.py:77\u001b[0m, in \u001b[0;36m_count_reduce_items\u001b[1;34m(arr, axis, keepdims, where)\u001b[0m\n\u001b[0;32m     75\u001b[0m     items \u001b[38;5;241m=\u001b[39m \u001b[38;5;241m1\u001b[39m\n\u001b[0;32m     76\u001b[0m     \u001b[38;5;28;01mfor\u001b[39;00m ax \u001b[38;5;129;01min\u001b[39;00m axis:\n\u001b[1;32m---> 77\u001b[0m         items \u001b[38;5;241m*\u001b[39m\u001b[38;5;241m=\u001b[39m arr\u001b[38;5;241m.\u001b[39mshape[\u001b[43mmu\u001b[49m\u001b[38;5;241;43m.\u001b[39;49m\u001b[43mnormalize_axis_index\u001b[49m\u001b[43m(\u001b[49m\u001b[43max\u001b[49m\u001b[43m,\u001b[49m\u001b[43m \u001b[49m\u001b[43marr\u001b[49m\u001b[38;5;241;43m.\u001b[39;49m\u001b[43mndim\u001b[49m\u001b[43m)\u001b[49m]\n\u001b[0;32m     78\u001b[0m     items \u001b[38;5;241m=\u001b[39m nt\u001b[38;5;241m.\u001b[39mintp(items)\n\u001b[0;32m     79\u001b[0m \u001b[38;5;28;01melse\u001b[39;00m:\n\u001b[0;32m     80\u001b[0m     \u001b[38;5;66;03m# TODO: Optimize case when `where` is broadcast along a non-reduction\u001b[39;00m\n\u001b[0;32m     81\u001b[0m     \u001b[38;5;66;03m# axis and full sum is more excessive than needed.\u001b[39;00m\n\u001b[0;32m     82\u001b[0m \n\u001b[0;32m     83\u001b[0m     \u001b[38;5;66;03m# guarded to protect circular imports\u001b[39;00m\n",
            "\u001b[1;31mAxisError\u001b[0m: axis 1 is out of bounds for array of dimension 1"
          ]
        }
      ],
      "source": [
        "plot_distribution_and_stat_intervals(np.mean(variant, axis=1),\n",
        "                                     np.mean(control, axis=1),\n",
        "                                     title='all users')"
      ]
    },
    {
      "cell_type": "code",
      "execution_count": null,
      "metadata": {
        "execution": {
          "iopub.execute_input": "2022-09-16T18:23:26.657231Z",
          "iopub.status.busy": "2022-09-16T18:23:26.656914Z",
          "iopub.status.idle": "2022-09-16T18:23:26.666176Z",
          "shell.execute_reply": "2022-09-16T18:23:26.664922Z",
          "shell.execute_reply.started": "2022-09-16T18:23:26.65719Z"
        },
        "id": "mOb8VkPAkkpT",
        "trusted": true
      },
      "outputs": [],
      "source": [
        "plot_distribution_and_stat_intervals(np.mean(variant_paid, axis=1),\n",
        "                                     np.mean(control_paid, axis=1),\n",
        "                                     title='paying users')"
      ]
    },
    {
      "cell_type": "markdown",
      "metadata": {
        "id": "5KFSGNjOkkpU"
      },
      "source": [
        "What can you observe ? Conclude about the statistical change in average revenue between A/B test groups.\n",
        "- As stated above there is no significant difference\n"
      ]
    },
    {
      "cell_type": "markdown",
      "metadata": {},
      "source": []
    }
  ],
  "metadata": {
    "colab": {
      "provenance": []
    },
    "kaggle": {
      "accelerator": "none",
      "dataSources": [
        {
          "datasetId": 2479030,
          "sourceId": 4213024,
          "sourceType": "datasetVersion"
        }
      ],
      "dockerImageVersionId": 30235,
      "isGpuEnabled": false,
      "isInternetEnabled": false,
      "language": "python",
      "sourceType": "notebook"
    },
    "kernelspec": {
      "display_name": "JUPYTER_DEFAULT",
      "language": "python",
      "name": "python3"
    },
    "language_info": {
      "codemirror_mode": {
        "name": "ipython",
        "version": 3
      },
      "file_extension": ".py",
      "mimetype": "text/x-python",
      "name": "python",
      "nbconvert_exporter": "python",
      "pygments_lexer": "ipython3",
      "version": "3.12.3"
    }
  },
  "nbformat": 4,
  "nbformat_minor": 0
}
