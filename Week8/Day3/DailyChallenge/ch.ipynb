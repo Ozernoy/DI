{
  "cells": [
    {
      "cell_type": "code",
      "execution_count": 1,
      "metadata": {
        "_cell_guid": "b1076dfc-b9ad-4769-8c92-a6c4dae69d19",
        "_uuid": "8f2839f25d086af736a60e9eeb907d3b93b6e0e5",
        "execution": {
          "iopub.execute_input": "2023-11-06T18:15:49.894197Z",
          "iopub.status.busy": "2023-11-06T18:15:49.893535Z",
          "iopub.status.idle": "2023-11-06T18:15:49.925697Z",
          "shell.execute_reply": "2023-11-06T18:15:49.924613Z",
          "shell.execute_reply.started": "2023-11-06T18:15:49.894137Z"
        },
        "id": "NxVVGK3Ervuh",
        "trusted": true
      },
      "outputs": [],
      "source": [
        "import numpy as np\n",
        "import pandas as pd\n",
        "import matplotlib.pyplot as plt\n",
        "import seaborn as sns\n",
        "import itertools\n",
        "import statsmodels.stats.api as sms\n",
        "from scipy.stats import (ttest_1samp, shapiro, levene, ttest_ind, mannwhitneyu,\n",
        "                         pearsonr, spearmanr, kendalltau, f_oneway, kruskal)\n",
        "from statsmodels.stats.proportion import proportions_ztest\n",
        "from statsmodels.stats.multicomp import MultiComparison\n"
      ]
    },
    {
      "cell_type": "code",
      "execution_count": 4,
      "metadata": {
        "id": "3tOTF5-JoVbY"
      },
      "outputs": [
        {
          "name": "stdout",
          "output_type": "stream",
          "text": [
            "Dataset URL: https://www.kaggle.com/datasets/sergylog/ab-test-data\n",
            "License(s): Community Data License Agreement - Sharing - Version 1.0\n",
            "Downloading ab-test-data.zip to c:\\Users\\d1411\\Документы\\Python Projects\\DI\\Week8\\DailyChallenge\n",
            "\n"
          ]
        },
        {
          "name": "stderr",
          "output_type": "stream",
          "text": [
            "\n",
            "  0%|          | 0.00/28.3k [00:00<?, ?B/s]\n",
            "100%|██████████| 28.3k/28.3k [00:00<00:00, 860kB/s]\n"
          ]
        }
      ],
      "source": [
        "# TODO : Import the Data from the kaggle API\n",
        "!kaggle datasets download -d sergylog/ab-test-data --unzip"
      ]
    },
    {
      "cell_type": "markdown",
      "metadata": {
        "id": "x4TkAvmHrvuk"
      },
      "source": [
        "# Data Understanding"
      ]
    },
    {
      "cell_type": "code",
      "execution_count": null,
      "metadata": {
        "execution": {
          "iopub.execute_input": "2023-11-06T18:17:34.663604Z",
          "iopub.status.busy": "2023-11-06T18:17:34.663181Z",
          "iopub.status.idle": "2023-11-06T18:17:34.698452Z",
          "shell.execute_reply": "2023-11-06T18:17:34.697253Z",
          "shell.execute_reply.started": "2023-11-06T18:17:34.66357Z"
        },
        "id": "4hquSCDYrvun",
        "trusted": true
      },
      "outputs": [],
      "source": [
        "#TODO : compute the following : DataFrame Information, Columns in DataFrame, Counting Missing Values, Descriptive Statistics, Value Counts for VARIANT_NAME, Counting Unique Users in USER_ID"
      ]
    },
    {
      "cell_type": "code",
      "execution_count": 9,
      "metadata": {},
      "outputs": [
        {
          "name": "stdout",
          "output_type": "stream",
          "text": [
            "<class 'pandas.core.frame.DataFrame'>\n",
            "RangeIndex: 10000 entries, 0 to 9999\n",
            "Data columns (total 3 columns):\n",
            " #   Column        Non-Null Count  Dtype  \n",
            "---  ------        --------------  -----  \n",
            " 0   USER_ID       10000 non-null  int64  \n",
            " 1   VARIANT_NAME  10000 non-null  object \n",
            " 2   REVENUE       10000 non-null  float64\n",
            "dtypes: float64(1), int64(1), object(1)\n",
            "memory usage: 234.5+ KB\n"
          ]
        },
        {
          "data": {
            "text/plain": [
              "(None,\n",
              "             USER_ID       REVENUE\n",
              " count  10000.000000  10000.000000\n",
              " mean    4981.080200      0.099447\n",
              " std     2890.590115      2.318529\n",
              " min        2.000000      0.000000\n",
              " 25%     2468.750000      0.000000\n",
              " 50%     4962.000000      0.000000\n",
              " 75%     7511.500000      0.000000\n",
              " max    10000.000000    196.010000,\n",
              " USER_ID         0\n",
              " VARIANT_NAME    0\n",
              " REVENUE         0\n",
              " dtype: int64,\n",
              " VARIANT_NAME\n",
              " variant    5016\n",
              " control    4984\n",
              " Name: count, dtype: int64,\n",
              " 6324)"
            ]
          },
          "execution_count": 9,
          "metadata": {},
          "output_type": "execute_result"
        }
      ],
      "source": [
        "df = pd.read_csv('AB_Test_Results.csv')\n",
        "df.info(), df.describe(), df.isna().sum(), df['VARIANT_NAME'].value_counts(), df['USER_ID'].nunique()"
      ]
    },
    {
      "cell_type": "markdown",
      "metadata": {
        "id": "1UJ0wnvyrvup"
      },
      "source": [
        "# Average Revenue by VARIANT_NAME"
      ]
    },
    {
      "cell_type": "code",
      "execution_count": 10,
      "metadata": {
        "execution": {
          "iopub.execute_input": "2023-11-06T18:18:57.602256Z",
          "iopub.status.busy": "2023-11-06T18:18:57.601805Z",
          "iopub.status.idle": "2023-11-06T18:18:57.619241Z",
          "shell.execute_reply": "2023-11-06T18:18:57.618008Z",
          "shell.execute_reply.started": "2023-11-06T18:18:57.602219Z"
        },
        "id": "FEl4TOdKrvuq",
        "trusted": true
      },
      "outputs": [
        {
          "data": {
            "text/html": [
              "<div>\n",
              "<style scoped>\n",
              "    .dataframe tbody tr th:only-of-type {\n",
              "        vertical-align: middle;\n",
              "    }\n",
              "\n",
              "    .dataframe tbody tr th {\n",
              "        vertical-align: top;\n",
              "    }\n",
              "\n",
              "    .dataframe thead th {\n",
              "        text-align: right;\n",
              "    }\n",
              "</style>\n",
              "<table border=\"1\" class=\"dataframe\">\n",
              "  <thead>\n",
              "    <tr style=\"text-align: right;\">\n",
              "      <th></th>\n",
              "      <th>USER_ID</th>\n",
              "      <th>REVENUE</th>\n",
              "    </tr>\n",
              "    <tr>\n",
              "      <th>VARIANT_NAME</th>\n",
              "      <th></th>\n",
              "      <th></th>\n",
              "    </tr>\n",
              "  </thead>\n",
              "  <tbody>\n",
              "    <tr>\n",
              "      <th>control</th>\n",
              "      <td>4989.436798</td>\n",
              "      <td>0.129013</td>\n",
              "    </tr>\n",
              "    <tr>\n",
              "      <th>variant</th>\n",
              "      <td>4972.776914</td>\n",
              "      <td>0.070070</td>\n",
              "    </tr>\n",
              "  </tbody>\n",
              "</table>\n",
              "</div>"
            ],
            "text/plain": [
              "                  USER_ID   REVENUE\n",
              "VARIANT_NAME                       \n",
              "control       4989.436798  0.129013\n",
              "variant       4972.776914  0.070070"
            ]
          },
          "execution_count": 10,
          "metadata": {},
          "output_type": "execute_result"
        }
      ],
      "source": [
        "#TODO\n",
        "df.groupby('VARIANT_NAME').mean()"
      ]
    },
    {
      "cell_type": "markdown",
      "metadata": {
        "id": "VI4aeoclrvur"
      },
      "source": [
        "What if H0: M1 = M2 ?\n",
        "What about H1: M1 1= M2 ?"
      ]
    },
    {
      "cell_type": "markdown",
      "metadata": {
        "id": "9nwdJ5OPrvus"
      },
      "source": [
        "# Assumptions Control:\n",
        "*# 1- Normality Assumptions*\n",
        "*# 2- Homogeneity of Variances Assumption*"
      ]
    },
    {
      "cell_type": "markdown",
      "metadata": {},
      "source": [
        "**Null Hypothesis (H₀):** The data follows a normal distribution.\n",
        "\n",
        "**Alternative Hypothesis (H₁):** The data does not follow a normal distribution."
      ]
    },
    {
      "cell_type": "code",
      "execution_count": 11,
      "metadata": {
        "execution": {
          "iopub.execute_input": "2023-11-06T18:33:49.419188Z",
          "iopub.status.busy": "2023-11-06T18:33:49.418255Z",
          "iopub.status.idle": "2023-11-06T18:33:49.439409Z",
          "shell.execute_reply": "2023-11-06T18:33:49.438008Z",
          "shell.execute_reply.started": "2023-11-06T18:33:49.41913Z"
        },
        "id": "TT2sJwFprvut",
        "trusted": true
      },
      "outputs": [
        {
          "name": "stderr",
          "output_type": "stream",
          "text": [
            "c:\\Users\\d1411\\anaconda3\\envs\\JUPYTER_DEFAULT\\Lib\\site-packages\\scipy\\stats\\_axis_nan_policy.py:531: UserWarning: scipy.stats.shapiro: For N > 5000, computed p-value may not be accurate. Current N is 5016.\n",
            "  res = hypotest_fun_out(*samples, **kwds)\n"
          ]
        },
        {
          "data": {
            "text/plain": [
              "(ShapiroResult(statistic=0.01833147442513483, pvalue=2.4983285100057203e-95),\n",
              " ShapiroResult(statistic=0.027033073451830147, pvalue=2.7310104028899288e-95))"
            ]
          },
          "execution_count": 11,
          "metadata": {},
          "output_type": "execute_result"
        }
      ],
      "source": [
        "# TODO : test the normality of revenue data in two groups (variant and control) within your DataFrame df using the Shapiro-Wilk test, what can you conclude ?\n",
        "\n",
        "shapiro(df[df['VARIANT_NAME'] == 'control']['REVENUE']), shapiro(df[df['VARIANT_NAME'] == 'variant']['REVENUE'])"
      ]
    },
    {
      "cell_type": "markdown",
      "metadata": {},
      "source": [
        "Both p-values are extremely small, we reject null hypothesis."
      ]
    },
    {
      "cell_type": "markdown",
      "metadata": {},
      "source": [
        "**The null hypothesis (H₀)** for Levene's test is that all groups have equal variances (homoscedasticity).\n",
        "\n",
        "**The alternative hypothesis (H₁)** is that at least one group has a different variance (heteroscedasticity)."
      ]
    },
    {
      "cell_type": "code",
      "execution_count": 12,
      "metadata": {
        "execution": {
          "iopub.execute_input": "2023-11-06T18:36:19.231134Z",
          "iopub.status.busy": "2023-11-06T18:36:19.230691Z",
          "iopub.status.idle": "2023-11-06T18:36:19.251023Z",
          "shell.execute_reply": "2023-11-06T18:36:19.249467Z",
          "shell.execute_reply.started": "2023-11-06T18:36:19.231103Z"
        },
        "id": "n_X3_fU2rvuv",
        "trusted": true
      },
      "outputs": [
        {
          "data": {
            "text/plain": [
              "LeveneResult(statistic=1.6158565214488871, pvalue=0.2037000785338918)"
            ]
          },
          "execution_count": 12,
          "metadata": {},
          "output_type": "execute_result"
        }
      ],
      "source": [
        "# TODO : test for the homogeneity of variances between two groups (variant and control) within your DataFrame df using the Levene's test,  what can you conclude ?\n",
        "\n",
        "levene(df[df['VARIANT_NAME'] == 'control']['REVENUE'], df[df['VARIANT_NAME'] == 'variant']['REVENUE'])"
      ]
    },
    {
      "cell_type": "markdown",
      "metadata": {},
      "source": [
        "P-value is bigger than 0.05. We fail to reject the null hypothesis."
      ]
    },
    {
      "cell_type": "markdown",
      "metadata": {
        "id": "thz0Mml0rvuw"
      },
      "source": [
        "# Non-Parametric Test (mannwhitneyu Test)"
      ]
    },
    {
      "cell_type": "markdown",
      "metadata": {},
      "source": [
        "**Null Hypothesis (H₀):** the distributions of the two groups are identical.\n",
        "\n",
        "**Alternative Hypothesis (H₁):** the distributions of the two groups are not the same."
      ]
    },
    {
      "cell_type": "code",
      "execution_count": 13,
      "metadata": {
        "execution": {
          "iopub.execute_input": "2023-11-06T18:38:28.695244Z",
          "iopub.status.busy": "2023-11-06T18:38:28.694822Z",
          "iopub.status.idle": "2023-11-06T18:38:28.727682Z",
          "shell.execute_reply": "2023-11-06T18:38:28.726189Z",
          "shell.execute_reply.started": "2023-11-06T18:38:28.695212Z"
        },
        "id": "HGcWTyuUrvuw",
        "trusted": true
      },
      "outputs": [
        {
          "data": {
            "text/plain": [
              "MannwhitneyuResult(statistic=12521564.0, pvalue=0.47825247965294926)"
            ]
          },
          "execution_count": 13,
          "metadata": {},
          "output_type": "execute_result"
        }
      ],
      "source": [
        "# TODO : perform the Mann-Whitney U test for comparing the average revenue between the variant and control groups in your DataFrame, what can you conclude ?\n",
        "mannwhitneyu(df[df['VARIANT_NAME'] == 'control']['REVENUE'], df[df['VARIANT_NAME'] == 'variant']['REVENUE'])"
      ]
    },
    {
      "cell_type": "markdown",
      "metadata": {},
      "source": [
        "P-value is larger than 0.05. We fail to reject the null hypothesis."
      ]
    },
    {
      "cell_type": "code",
      "execution_count": 14,
      "metadata": {
        "execution": {
          "iopub.execute_input": "2023-11-06T18:45:29.18208Z",
          "iopub.status.busy": "2023-11-06T18:45:29.181657Z",
          "iopub.status.idle": "2023-11-06T18:45:29.640026Z",
          "shell.execute_reply": "2023-11-06T18:45:29.638846Z",
          "shell.execute_reply.started": "2023-11-06T18:45:29.182049Z"
        },
        "id": "jtjQGGsDrvux",
        "trusted": true
      },
      "outputs": [
        {
          "data": {
            "text/plain": [
              "<Axes: xlabel='VARIANT_NAME', ylabel='REVENUE'>"
            ]
          },
          "execution_count": 14,
          "metadata": {},
          "output_type": "execute_result"
        },
        {
          "data": {
            "image/png": "[encoded data removed]",
            "text/plain": [
              "<Figure size 640x480 with 1 Axes>"
            ]
          },
          "metadata": {},
          "output_type": "display_data"
        }
      ],
      "source": [
        "# TODO : create a bar plot showing the average revenues by variant names using the seaborn library\n",
        "sns.barplot(x='VARIANT_NAME', y='REVENUE', data=df)"
      ]
    }
  ],
  "metadata": {
    "colab": {
      "provenance": []
    },
    "kaggle": {
      "accelerator": "none",
      "dataSources": [
        {
          "datasetId": 2479030,
          "sourceId": 4213024,
          "sourceType": "datasetVersion"
        }
      ],
      "dockerImageVersionId": 30558,
      "isGpuEnabled": false,
      "isInternetEnabled": false,
      "language": "python",
      "sourceType": "notebook"
    },
    "kernelspec": {
      "display_name": "JUPYTER_DEFAULT",
      "language": "python",
      "name": "python3"
    },
    "language_info": {
      "codemirror_mode": {
        "name": "ipython",
        "version": 3
      },
      "file_extension": ".py",
      "mimetype": "text/x-python",
      "name": "python",
      "nbconvert_exporter": "python",
      "pygments_lexer": "ipython3",
      "version": "3.12.3"
    }
  },
  "nbformat": 4,
  "nbformat_minor": 0
}
