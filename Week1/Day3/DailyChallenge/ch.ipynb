{
 "cells": [
  {
   "cell_type": "markdown",
   "metadata": {},
   "source": [
    "# Challenge 1\n",
    "1. Ask a user for a word\n",
    "2. Write a program that creates a dictionary. This dictionary stores the indexes of each letter in a list.\n",
    "\n",
    "- Make sure the letters are the keys.\n",
    "- Make sure the letters are strings.\n",
    "- Make sure the indexes are stored in a list and those lists are values.\n",
    "\n",
    "Examples:\n",
    "```python\n",
    "\"dodo\" ➞ { \"d\": [0, 2], \"o\": [1, 3] }\n",
    "\n",
    "\"froggy\" ➞ { \"f\":  [0], \"r\": [1], \"o\": [2], \"g\": [3, 4], \"y\": [5] }\n",
    "\n",
    "\"grapes\" ➞ { \"g\": [0], \"r\": [1], \"a\": [2], \"p\": [3]}\n",
    "```"
   ]
  },
  {
   "cell_type": "code",
   "execution_count": 1,
   "metadata": {},
   "outputs": [
    {
     "name": "stdout",
     "output_type": "stream",
     "text": [
      "{'d': [0, 2], 'o': [1, 3]}\n"
     ]
    }
   ],
   "source": [
    "def create_letter_index_dict(word):\n",
    "    letter_dict = {}\n",
    "    for index, letter in enumerate(word):\n",
    "        if letter not in letter_dict:\n",
    "            letter_dict[letter] = []\n",
    "        letter_dict[letter].append(index)\n",
    "    return letter_dict\n",
    "\n",
    "# Example usage\n",
    "word = input(\"Enter a word: \")\n",
    "result = create_letter_index_dict(word)\n",
    "print(result)\n"
   ]
  },
  {
   "cell_type": "markdown",
   "metadata": {},
   "source": [
    "# Challenge 2\n",
    "1. Create a program that prints a list of the items you can afford in the store with the money you have in your wallet.\n",
    "2. Sort the list in alphabetical order.\n",
    "3. Return “Nothing” if you can’t afford anything from the store.\n",
    "**Hint** : make sure to convert the amount from dollars to numbers. Create a program that deletes the $ sign, and the comma (for thousands)\n",
    "\n",
    "Examples\n",
    "```python\n",
    "The key is the product, the value is the price\n",
    "\n",
    "items_purchase = {\n",
    "  \"Water\": \"$1\",\n",
    "  \"Bread\": \"$3\",\n",
    "  \"TV\": \"$1,000\",\n",
    "  \"Fertilizer\": \"$20\"\n",
    "}\n",
    "\n",
    "wallet = \"$300\"\n",
    "\n",
    "➞ [\"Bread\", \"Fertilizer\", \"Water\"]\n",
    "\n",
    "items_purchase = {\n",
    "  \"Apple\": \"$4\",\n",
    "  \"Honey\": \"$3\",\n",
    "  \"Fan\": \"$14\",\n",
    "  \"Bananas\": \"$4\",\n",
    "  \"Pan\": \"$100\",\n",
    "  \"Spoon\": \"$2\"\n",
    "}\n",
    "\n",
    "wallet = \"$100\" \n",
    "\n",
    "➞ [\"Apple\", \"Bananas\", \"Fan\", \"Honey\", \"Spoon\"]\n",
    "\n",
    "# In fact the prices of Apple + Honey + Fan + Bananas + Pan is more that $100, so you cannot by the Pan, \n",
    "# instead you can by the Spoon that is $2\n",
    "\n",
    "items_purchase = {\n",
    "  \"Phone\": \"$999\",\n",
    "  \"Speakers\": \"$300\",\n",
    "  \"Laptop\": \"$5,000\",\n",
    "  \"PC\": \"$1200\"\n",
    "}\n",
    "\n",
    "wallet = \"$1\" \n",
    "\n",
    "➞ \"Nothing\"\n",
    "```"
   ]
  },
  {
   "cell_type": "code",
   "execution_count": 4,
   "metadata": {},
   "outputs": [
    {
     "name": "stdout",
     "output_type": "stream",
     "text": [
      "['Apple', 'Bananas', 'Fan', 'Honey', 'Spoon']\n"
     ]
    }
   ],
   "source": [
    "def affordable_items(items, wallet):\n",
    "    # Remove \"$\" and commas, convert to integer\n",
    "    wallet_amount = int(wallet.replace(\"$\", \"\").replace(\",\", \"\"))\n",
    "    \n",
    "    # Extract items with their prices as integers\n",
    "    item_prices = [(item, int(price.replace(\"$\", \"\").replace(\",\", \"\"))) for item, price in items.items()]\n",
    "    \n",
    "    # Sort items alphabetically and by price\n",
    "    item_prices.sort(key=lambda x: (x[1], x[0]))\n",
    "    \n",
    "    affordable = []\n",
    "    total_cost = 0\n",
    "    \n",
    "    # Add items as long as the total cost doesn't exceed the wallet amount\n",
    "    for item, price in item_prices:\n",
    "        if total_cost + price <= wallet_amount:\n",
    "            affordable.append(item)\n",
    "            total_cost += price\n",
    "        else:\n",
    "            break\n",
    "    \n",
    "    # Return sorted list of affordable items or \"Nothing\"\n",
    "    return sorted(affordable) if affordable else \"Nothing\"\n",
    "\n",
    "# Example usage\n",
    "items_purchase = {\n",
    "    \"Apple\": \"$4\",\n",
    "    \"Honey\": \"$3\",\n",
    "    \"Fan\": \"$14\",\n",
    "    \"Bananas\": \"$4\",\n",
    "    \"Pan\": \"$100\",\n",
    "    \"Spoon\": \"$2\"\n",
    "}\n",
    "wallet = \"$100\"\n",
    "result = affordable_items(items_purchase, wallet)\n",
    "print(result)  # ➞ [\"Apple\", \"Bananas\", \"Fan\", \"Honey\", \"Spoon\"]\n"
   ]
  }
 ],
 "metadata": {
  "kernelspec": {
   "display_name": "general",
   "language": "python",
   "name": "python3"
  },
  "language_info": {
   "codemirror_mode": {
    "name": "ipython",
    "version": 3
   },
   "file_extension": ".py",
   "mimetype": "text/x-python",
   "name": "python",
   "nbconvert_exporter": "python",
   "pygments_lexer": "ipython3",
   "version": "3.11.10"
  }
 },
 "nbformat": 4,
 "nbformat_minor": 2
}
