{
 "cells": [
  {
   "cell_type": "code",
   "execution_count": 1,
   "metadata": {},
   "outputs": [
    {
     "name": "stdout",
     "output_type": "stream",
     "text": [
      "This is Matrix\n"
     ]
    }
   ],
   "source": [
    "# Matrix as a 2D list\n",
    "matrix = [\n",
    "    ['7', 'i', 'i'],\n",
    "    ['T', 's', 'x'],\n",
    "    ['h', '%', '?'],\n",
    "    ['i', ' ', '#'],\n",
    "    ['s', 'M', ' '],\n",
    "    ['$', 'a', ' '],\n",
    "    ['#', 't', '%'],\n",
    "    ['^', 'r', '!']\n",
    "]\n",
    "\n",
    "def decode_matrix(matrix):\n",
    "    rows = len(matrix)\n",
    "    cols = len(matrix[0])\n",
    "    result = \"\"\n",
    "\n",
    "    # Traverse each column\n",
    "    for col in range(cols):\n",
    "        for row in range(rows):\n",
    "            char = matrix[row][col]\n",
    "            # Add only alphabetic characters to the result\n",
    "            if char.isalpha():\n",
    "                result += char\n",
    "            else:\n",
    "                result += \" \"  # Add a space for non-alphabetic characters\n",
    "\n",
    "    # Replace multiple spaces with a single space\n",
    "    decoded_message = \" \".join(result.split())\n",
    "    return decoded_message\n",
    "\n",
    "# Decode the matrix\n",
    "decoded_message = decode_matrix(matrix)\n",
    "print(decoded_message)\n"
   ]
  }
 ],
 "metadata": {
  "kernelspec": {
   "display_name": "general",
   "language": "python",
   "name": "python3"
  },
  "language_info": {
   "codemirror_mode": {
    "name": "ipython",
    "version": 3
   },
   "file_extension": ".py",
   "mimetype": "text/x-python",
   "name": "python",
   "nbconvert_exporter": "python",
   "pygments_lexer": "ipython3",
   "version": "3.11.10"
  }
 },
 "nbformat": 4,
 "nbformat_minor": 2
}
