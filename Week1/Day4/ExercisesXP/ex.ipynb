{
 "cells": [
  {
   "cell_type": "markdown",
   "metadata": {},
   "source": [
    "# Exercise 1 : What are you learning ?\n",
    "\n",
    "Instructions\n",
    "- Write a function called display_message() that prints one sentence telling everyone what you are learning in this course.\n",
    "- Call the function, and make sure the message displays correctly."
   ]
  },
  {
   "cell_type": "code",
   "execution_count": null,
   "metadata": {},
   "outputs": [],
   "source": [
    "def display_message():\n",
    "    print(\"I am learning Python programming in this course.\")\n",
    "\n",
    "# Call the function\n",
    "display_message()"
   ]
  },
  {
   "cell_type": "markdown",
   "metadata": {},
   "source": [
    "# 🌟 Exercise 2: What’s your favorite book ?\n",
    "Instructions\n",
    "- Write a function called favorite_book() that accepts one parameter called title.\n",
    "- The function should print a message, such as \"One of my favorite books is `<title>\".`\n",
    "- For example: “One of my favorite books is Alice in Wonderland”\n",
    "- Call the function, make sure to include a book title as an argument when calling the function."
   ]
  },
  {
   "cell_type": "code",
   "execution_count": 1,
   "metadata": {},
   "outputs": [
    {
     "name": "stdout",
     "output_type": "stream",
     "text": [
      "One of my favorite books is Alice in Wonderland.\n"
     ]
    }
   ],
   "source": [
    "def favorite_book(title):\n",
    "    print(f\"One of my favorite books is {title}.\")\n",
    "\n",
    "# Call the function with an example\n",
    "favorite_book(\"Alice in Wonderland\")\n"
   ]
  },
  {
   "cell_type": "markdown",
   "metadata": {},
   "source": [
    "# 🌟 Exercise 3 : Some Geography\n",
    "Instructions\n",
    "- Write a function called describe_city() that accepts the name of a city and its country as parameters.\n",
    "- The function should print a simple sentence, such as `\"<city>` is in `<country>\"`.\n",
    "- For example “Reykjavik is in Iceland”\n",
    "- Give the country parameter a default value.\n",
    "- Call your function."
   ]
  },
  {
   "cell_type": "code",
   "execution_count": 2,
   "metadata": {},
   "outputs": [
    {
     "name": "stdout",
     "output_type": "stream",
     "text": [
      "Reykjavik is in Iceland.\n",
      "Paris is in France.\n"
     ]
    }
   ],
   "source": [
    "def describe_city(city, country=\"Iceland\"):\n",
    "    print(f\"{city} is in {country}.\")\n",
    "\n",
    "# Call the function\n",
    "describe_city(\"Reykjavik\")\n",
    "describe_city(\"Paris\", \"France\")"
   ]
  },
  {
   "cell_type": "markdown",
   "metadata": {},
   "source": [
    "# Exercise 4 : Random\n",
    "Instructions\n",
    "- Create a function that accepts a number between 1 and 100 and generates another number randomly between 1 and 100. Use the random module.\n",
    "- Compare the two numbers, if it’s the same number, display a success message, otherwise show a fail message and display both numbers."
   ]
  },
  {
   "cell_type": "code",
   "execution_count": 3,
   "metadata": {},
   "outputs": [
    {
     "name": "stdout",
     "output_type": "stream",
     "text": [
      "Fail! Your number: 50, Random number: 71.\n"
     ]
    }
   ],
   "source": [
    "import random\n",
    "\n",
    "def compare_numbers(user_number):\n",
    "    random_number = random.randint(1, 100)\n",
    "    if user_number == random_number:\n",
    "        print(f\"Success! You guessed the correct number: {random_number}.\")\n",
    "    else:\n",
    "        print(f\"Fail! Your number: {user_number}, Random number: {random_number}.\")\n",
    "\n",
    "# Example usage\n",
    "compare_numbers(50)\n"
   ]
  },
  {
   "cell_type": "markdown",
   "metadata": {},
   "source": [
    "# 🌟 Exercise 5 : Let’s create some personalized shirts !\n",
    "Instructions\n",
    "- Write a function called make_shirt() that accepts a size and the text of a message that should be printed on the shirt.\n",
    "- The function should print a sentence summarizing the size of the shirt and the message printed on it, such as \"The size of the shirt is `<size>` and the text is `<text>`\"\n",
    "- Call the function make_shirt().\n",
    "\n",
    "- Modify the make_shirt() function so that shirts are large by default with a message that reads “I love Python” by default.\n",
    "- Call the function, in order to make a large shirt with the default message\n",
    "- Make medium shirt with the default message\n",
    "- Make a shirt of any size with a different message.\n",
    "\n",
    "- Bonus: Call the function make_shirt() using keyword arguments."
   ]
  },
  {
   "cell_type": "code",
   "execution_count": null,
   "metadata": {},
   "outputs": [
    {
     "name": "stdout",
     "output_type": "stream",
     "text": [
      "The size of the shirt is Large and the text is 'I love Python'.\n",
      "The size of the shirt is Medium and the text is 'I love Python'.\n",
      "The size of the shirt is Small and the text is 'Hello, World!'.\n",
      "The size of the shirt is Extra Large and the text is 'Code Rocks!'.\n"
     ]
    }
   ],
   "source": [
    "def make_shirt(size=\"Large\", text=\"I love Python\"):\n",
    "    print(f\"The size of the shirt is {size} and the text is '{text}'.\")\n",
    "\n",
    "# Call the function\n",
    "make_shirt()\n",
    "make_shirt(\"Medium\")\n",
    "make_shirt(\"Small\", \"Hello, World!\")\n",
    "\n",
    "# Call with keyword arguments\n",
    "make_shirt(text=\"Code Rocks!\", size=\"Extra Large\")\n"
   ]
  },
  {
   "cell_type": "markdown",
   "metadata": {},
   "source": [
    "# 🌟 Exercise 6 : Magicians …\n",
    "Instructions\n",
    "Using this list of magician’s names\n",
    "\n",
    "`magician_names = ['Harry Houdini', 'David Blaine', 'Criss Angel']`\n",
    "\n",
    "- Create a function called show_magicians(), which prints the name of each magician in the list.\n",
    "- Write a function called make_great() that modifies the original list of magicians by adding the phrase \"the Great\" to each magician’s name.\n",
    "- Call the function make_great().\n",
    "- Call the function show_magicians() to see that the list has actually been modified."
   ]
  },
  {
   "cell_type": "code",
   "execution_count": 5,
   "metadata": {},
   "outputs": [
    {
     "name": "stdout",
     "output_type": "stream",
     "text": [
      "Harry Houdini the Great\n",
      "David Blaine the Great\n",
      "Criss Angel the Great\n"
     ]
    }
   ],
   "source": [
    "magician_names = ['Harry Houdini', 'David Blaine', 'Criss Angel']\n",
    "\n",
    "def show_magicians(names):\n",
    "    for name in names:\n",
    "        print(name)\n",
    "\n",
    "def make_great(names):\n",
    "    for i in range(len(names)):\n",
    "        names[i] = f\"{names[i]} the Great\"\n",
    "\n",
    "# Modify and display the list\n",
    "make_great(magician_names)\n",
    "show_magicians(magician_names)\n"
   ]
  },
  {
   "cell_type": "markdown",
   "metadata": {},
   "source": [
    "# 🌟 Exercise 7 : Temperature Advice\n",
    "Instructions\n",
    "1. Create a function called get_random_temp().\n",
    "    1. This function should return an integer between -10 and 40 degrees (Celsius), selected at random.\n",
    "    2. Test your function to make sure it generates expected results.\n",
    "\n",
    "2. Create a function called main().\n",
    "    1. Inside this function, call get_random_temp() to get a temperature, and store its value in a variable.\n",
    "    2. Inform the user of the temperature in a friendly message, eg. “The temperature right now is 32 degrees Celsius.”\n",
    "\n",
    "3. Let’s add more functionality to the main() function. Write some friendly advice relating to the temperature:\n",
    "    1. below zero (eg. “Brrr, that’s freezing! Wear some extra layers today”)\n",
    "    2. between zero and 16 (eg. “Quite chilly! Don’t forget your coat”)\n",
    "    3. between 16 and 23\n",
    "    4. between 24 and 32\n",
    "    5. between 32 and 40\n",
    "\n",
    "4. Change the get_random_temp() function:\n",
    "    1. Add a parameter to the function, named ‘season’.\n",
    "    2. Inside the function, instead of simply generating a random number between -10 and 40, set lower and upper limits based on the season, eg. if season is ‘winter’, temperatures should only fall between -10 and 16.\n",
    "    3. Now that we’ve changed get_random_temp(), let’s change the main() function:\n",
    "    4. Before calling get_random_temp(), we will need to decide on a season, so that we can call the function correctly. Ask the user to type in a season - ‘summer’, ‘autumn’ (you can use ‘fall’ if you prefer), ‘winter’, or ‘spring’.\n",
    "    5. Use the season as an argument when calling get_random_temp().\n",
    "\n",
    "5. Bonus: Give the temperature as a floating-point number instead of an integer.\n",
    "6. Bonus: Instead of asking for the season, ask the user for the number of the month (1 = January, 12 = December). Determine the season according to the month."
   ]
  },
  {
   "cell_type": "code",
   "execution_count": 6,
   "metadata": {},
   "outputs": [
    {
     "name": "stdout",
     "output_type": "stream",
     "text": [
      "The temperature right now is -9.3 degrees Celsius.\n",
      "Brrr, that’s freezing! Wear some extra layers today.\n"
     ]
    }
   ],
   "source": [
    "import random\n",
    "\n",
    "def get_random_temp(season=\"\"):\n",
    "    if season == \"winter\":\n",
    "        return round(random.uniform(-10, 16), 1)\n",
    "    elif season == \"spring\":\n",
    "        return round(random.uniform(0, 23), 1)\n",
    "    elif season == \"summer\":\n",
    "        return round(random.uniform(24, 40), 1)\n",
    "    elif season == \"autumn\":\n",
    "        return round(random.uniform(10, 24), 1)\n",
    "    else:\n",
    "        return round(random.uniform(-10, 40), 1)\n",
    "\n",
    "def main():\n",
    "    season = input(\"Enter the season (winter, spring, summer, autumn): \").strip().lower()\n",
    "    temperature = get_random_temp(season)\n",
    "    print(f\"The temperature right now is {temperature} degrees Celsius.\")\n",
    "    \n",
    "    if temperature < 0:\n",
    "        print(\"Brrr, that’s freezing! Wear some extra layers today.\")\n",
    "    elif 0 <= temperature <= 16:\n",
    "        print(\"Quite chilly! Don’t forget your coat.\")\n",
    "    elif 16 < temperature <= 23:\n",
    "        print(\"Cool weather! A light jacket should suffice.\")\n",
    "    elif 24 <= temperature <= 32:\n",
    "        print(\"Warm and pleasant! Enjoy the outdoors.\")\n",
    "    elif 32 < temperature <= 40:\n",
    "        print(\"It’s hot! Stay hydrated.\")\n",
    "\n",
    "# Run the program\n",
    "main()\n"
   ]
  },
  {
   "cell_type": "markdown",
   "metadata": {},
   "source": [
    "# 🌟 Exercise 8 : Star Wars Quiz\n",
    "Instructions\n",
    "\n",
    "This project allows users to take a quiz to test their Star Wars knowledge.  \n",
    "The number of correct/incorrect answers are tracked and the user receives different messages depending on how well they did on the quiz.  \n",
    "\n",
    "Here is an array of dictionaries, containing those questions and answers\n",
    "```python\n",
    "data = [\n",
    "    {\n",
    "        \"question\": \"What is Baby Yoda's real name?\",\n",
    "        \"answer\": \"Grogu\"\n",
    "    },\n",
    "    {\n",
    "        \"question\": \"Where did Obi-Wan take Luke after his birth?\",\n",
    "        \"answer\": \"Tatooine\"\n",
    "    },\n",
    "    {\n",
    "        \"question\": \"What year did the first Star Wars movie come out?\",\n",
    "        \"answer\": \"1977\"\n",
    "    },\n",
    "    {\n",
    "        \"question\": \"Who built C-3PO?\",\n",
    "        \"answer\": \"Anakin Skywalker\"\n",
    "    },\n",
    "    {\n",
    "        \"question\": \"Anakin Skywalker grew up to be who?\",\n",
    "        \"answer\": \"Darth Vader\"\n",
    "    },\n",
    "    {\n",
    "        \"question\": \"What species is Chewbacca?\",\n",
    "        \"answer\": \"Wookiee\"\n",
    "    }\n",
    "]\n",
    "```\n",
    "\n",
    "- Create a function that asks the questions to the user, and check his answers. Track the number of correct, incorrect answers. \n",
    "- Create a list of wrong_answers\n",
    "- Create a function that informs the user of his number of correct/incorrect answers.\n",
    "- Bonus : display to the user the questions he answered wrong, his answer, and the correct answer.\n",
    "- If he had more then 3 wrong answers, ask him to play again."
   ]
  },
  {
   "cell_type": "code",
   "execution_count": 7,
   "metadata": {},
   "outputs": [
    {
     "name": "stdout",
     "output_type": "stream",
     "text": [
      "\n",
      "You got 1 correct and 5 wrong.\n",
      "\n",
      "Here are the questions you answered wrong:\n",
      "Question: Where did Obi-Wan take Luke after his birth?\n",
      "Your answer: dasd\n",
      "Correct answer: Tatooine\n",
      "\n",
      "Question: What year did the first Star Wars movie come out?\n",
      "Your answer: asdasd\n",
      "Correct answer: 1977\n",
      "\n",
      "Question: Who built C-3PO?\n",
      "Your answer: asdsad\n",
      "Correct answer: Anakin Skywalker\n",
      "\n",
      "Question: Anakin Skywalker grew up to be who?\n",
      "Your answer: asdsad\n",
      "Correct answer: Darth Vader\n",
      "\n",
      "Question: What species is Chewbacca?\n",
      "Your answer: asdasd\n",
      "Correct answer: Wookiee\n",
      "\n",
      "You had more than 3 wrong answers. Try playing again!\n"
     ]
    }
   ],
   "source": [
    "data = [\n",
    "    {\"question\": \"What is Baby Yoda's real name?\", \"answer\": \"Grogu\"},\n",
    "    {\"question\": \"Where did Obi-Wan take Luke after his birth?\", \"answer\": \"Tatooine\"},\n",
    "    {\"question\": \"What year did the first Star Wars movie come out?\", \"answer\": \"1977\"},\n",
    "    {\"question\": \"Who built C-3PO?\", \"answer\": \"Anakin Skywalker\"},\n",
    "    {\"question\": \"Anakin Skywalker grew up to be who?\", \"answer\": \"Darth Vader\"},\n",
    "    {\"question\": \"What species is Chewbacca?\", \"answer\": \"Wookiee\"}\n",
    "]\n",
    "\n",
    "def ask_questions():\n",
    "    correct = 0\n",
    "    wrong_answers = []\n",
    "    for entry in data:\n",
    "        user_answer = input(entry[\"question\"] + \" \").strip()\n",
    "        if user_answer.lower() == entry[\"answer\"].lower():\n",
    "            correct += 1\n",
    "        else:\n",
    "            wrong_answers.append({\n",
    "                \"question\": entry[\"question\"],\n",
    "                \"your_answer\": user_answer,\n",
    "                \"correct_answer\": entry[\"answer\"]\n",
    "            })\n",
    "    \n",
    "    print(f\"\\nYou got {correct} correct and {len(wrong_answers)} wrong.\")\n",
    "\n",
    "    if wrong_answers:\n",
    "        print(\"\\nHere are the questions you answered wrong:\")\n",
    "        for wrong in wrong_answers:\n",
    "            print(f\"Question: {wrong['question']}\")\n",
    "            print(f\"Your answer: {wrong['your_answer']}\")\n",
    "            print(f\"Correct answer: {wrong['correct_answer']}\\n\")\n",
    "    \n",
    "    if len(wrong_answers) > 3:\n",
    "        print(\"You had more than 3 wrong answers. Try playing again!\")\n",
    "\n",
    "# Run the quiz\n",
    "ask_questions()\n"
   ]
  }
 ],
 "metadata": {
  "kernelspec": {
   "display_name": "general",
   "language": "python",
   "name": "python3"
  },
  "language_info": {
   "codemirror_mode": {
    "name": "ipython",
    "version": 3
   },
   "file_extension": ".py",
   "mimetype": "text/x-python",
   "name": "python",
   "nbconvert_exporter": "python",
   "pygments_lexer": "ipython3",
   "version": "3.11.10"
  }
 },
 "nbformat": 4,
 "nbformat_minor": 2
}
